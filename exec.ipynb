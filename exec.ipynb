{
 "cells": [
  {
   "cell_type": "markdown",
   "id": "5fd9151e-8934-4cd2-bacf-e17fc9854d45",
   "metadata": {},
   "source": [
    "# Imports"
   ]
  },
  {
   "cell_type": "code",
   "execution_count": 1,
   "id": "e07b0dd6-1b1f-4023-b8d5-0a081c7ab3d1",
   "metadata": {},
   "outputs": [],
   "source": [
    "import numpy as np\n",
    "import matplotlib.pyplot as plt\n",
    "from qiskit import *\n",
    "from qiskit.providers.ibmq.managed import IBMQJobManager"
   ]
  },
  {
   "cell_type": "code",
   "execution_count": 2,
   "id": "ab92d946-0a18-4e87-ab6b-1b76ec22caed",
   "metadata": {},
   "outputs": [],
   "source": [
    "import rotcounterrot as rcr\n",
    "import vqe"
   ]
  },
  {
   "cell_type": "markdown",
   "id": "0ca0277f-f282-4f78-9d64-d1e499db239c",
   "metadata": {},
   "source": [
    "# Setup"
   ]
  },
  {
   "cell_type": "code",
   "execution_count": 3,
   "id": "7df111c7-a2fd-4271-87d5-5e4542d789b7",
   "metadata": {},
   "outputs": [],
   "source": [
    "token = ''  # Put in your IBM token\n",
    "IBMQ.save_account(token, overwrite=True)\n",
    "IBMQ.load_account()\n",
    "provider = IBMQ.get_provider(group='open')"
   ]
  },
  {
   "cell_type": "code",
   "execution_count": 4,
   "id": "88ad4954-4728-49e2-bad0-d29c9367fd1f",
   "metadata": {},
   "outputs": [
    {
     "name": "stdout",
     "output_type": "stream",
     "text": [
      "ibmq_qasm_simulator\n"
     ]
    }
   ],
   "source": [
    "backend_sim = 'ibmq_qasm_simulator'\n",
    "backends = [\"ibmq_manila\", \"ibmq_quito\", \"ibmq_belem\", \"ibmq_lima\", \"ibmq_oslo\", \"ibmq_nairobi\"]\n",
    "\n",
    "job_manager = IBMQJobManager()\n",
    "backend = provider.get_backend(backend_sim) # Either use backend_sim for simulator, or backends[x] for device\n",
    "print(backend)"
   ]
  },
  {
   "cell_type": "markdown",
   "id": "edf0b3a2-6640-40df-8fa9-c61de23e6464",
   "metadata": {},
   "source": [
    "# Running the Rotation-Counter Rotation Experiment"
   ]
  },
  {
   "cell_type": "code",
   "execution_count": 5,
   "id": "d0b867a8-d98b-447d-8fbc-62d08d7fd12b",
   "metadata": {},
   "outputs": [],
   "source": [
    "# Coefficients of T operator\n",
    "acoeff_ar = np.load(\"\")  # or np.genfromtxt(\"\")\n",
    "bcoeff_ar = np.load(\"\")  # or np.genfromtxt(\"\")"
   ]
  },
  {
   "cell_type": "code",
   "execution_count": 6,
   "id": "2240d61b-e942-4163-9c2a-b149b31316b5",
   "metadata": {},
   "outputs": [],
   "source": [
    "# Cell for reducing number of points for quicker tests\n",
    "# start:stop:step\n",
    "acoeff_ar = acoeff_ar[0:200:200]\n",
    "bcoeff_ar = bcoeff_ar[0:200:200]"
   ]
  },
  {
   "cell_type": "code",
   "execution_count": 7,
   "id": "cb9abf15-7e5b-4023-88d1-1c090580cde9",
   "metadata": {},
   "outputs": [],
   "source": [
    "best_qubits = [0, 1, 2, 3]  # A list of four (linearly connected) qubits\n",
    "shots_num = 8000\n",
    "beta = np.pi/2"
   ]
  },
  {
   "cell_type": "markdown",
   "id": "cae9699e-918b-4e5b-ad92-b9a950750c25",
   "metadata": {},
   "source": [
    "### Getting data without measurement error mitigation"
   ]
  },
  {
   "cell_type": "code",
   "execution_count": 9,
   "id": "96ea5c22-ad5a-4fd1-a7f0-bb5a4d327c07",
   "metadata": {},
   "outputs": [
    {
     "name": "stdout",
     "output_type": "stream",
     "text": [
      "Job Status: job has successfully run\n",
      "All jobs have finished.\n",
      "Job Status: job has successfully run\n",
      "All jobs have finished.\n",
      "Job Status: job has successfully run\n",
      "All jobs have finished.\n",
      "Job Status: job has successfully run\n",
      "All jobs have finished.\n",
      "Job Status: job has successfully run\n",
      "All jobs have finished.\n"
     ]
    }
   ],
   "source": [
    "logicXavg_ar, logicXerr_ar = rcr.many_exp_point(backend, best_qubits, shots_num, job_manager, beta, acoeff_ar, bcoeff_ar)"
   ]
  },
  {
   "cell_type": "markdown",
   "id": "57ba9d96-7685-45f9-a455-c2e1753bc167",
   "metadata": {},
   "source": [
    "### Getting data with measurement error mitigation"
   ]
  },
  {
   "cell_type": "code",
   "execution_count": 16,
   "id": "337f9e39-8289-4ff7-8a91-d9d13454dc58",
   "metadata": {},
   "outputs": [
    {
     "name": "stdout",
     "output_type": "stream",
     "text": [
      "Job Status: job has successfully run\n"
     ]
    }
   ],
   "source": [
    "meas_filter = rcr.run_meas_error_calibs(backend, best_qubits, shots_num)"
   ]
  },
  {
   "cell_type": "code",
   "execution_count": 12,
   "id": "889a0a28-1ab1-49a9-bd0e-c6b33c989d04",
   "metadata": {},
   "outputs": [
    {
     "name": "stdout",
     "output_type": "stream",
     "text": [
      "Job Status: job has successfully run\n",
      "All jobs have finished.\n",
      "Job Status: job has successfully run\n",
      "All jobs have finished.\n",
      "Job Status: job has successfully run\n",
      "All jobs have finished.\n",
      "Job Status: job has successfully run\n",
      "All jobs have finished.\n",
      "Job Status: job has successfully run\n",
      "All jobs have finished.\n"
     ]
    }
   ],
   "source": [
    "logicXavg_ar, logicXerr_ar = rcr.many_exp_point(backend, best_qubits, shots_num, job_manager, beta, acoeff_ar, bcoeff_ar, meas_filter)"
   ]
  },
  {
   "cell_type": "markdown",
   "id": "91d35836-def3-42a9-be23-228c67faa46e",
   "metadata": {},
   "source": [
    "### Saving data"
   ]
  },
  {
   "cell_type": "code",
   "execution_count": null,
   "id": "dc23f9b6-4163-41af-a695-5b95bb9a7b8d",
   "metadata": {},
   "outputs": [],
   "source": [
    "np.savetxt(\"\", logicXavg_ar, delimiter=\",\")\n",
    "np.savetxt(\"\", logicXerr_ar, delimiter=\",\")"
   ]
  },
  {
   "cell_type": "markdown",
   "id": "3555711d-ddf3-42f6-afd3-0943e0315e67",
   "metadata": {},
   "source": [
    "# Plotting"
   ]
  },
  {
   "cell_type": "code",
   "execution_count": 2,
   "id": "2a142167-74e7-4d9e-91c1-6ad68fdad0fd",
   "metadata": {},
   "outputs": [],
   "source": [
    "alpha_ar = np.linspace(0, np.pi/2, len(acoeff_ar))"
   ]
  },
  {
   "cell_type": "code",
   "execution_count": null,
   "id": "18c7e7d9-ef73-425f-abb9-6e5b8335bf0e",
   "metadata": {},
   "outputs": [],
   "source": [
    "other_data = np.genfromtxt('', delimiter=',')"
   ]
  },
  {
   "cell_type": "code",
   "execution_count": null,
   "id": "5f81a708-cf01-4a69-bd63-998d62740faa",
   "metadata": {},
   "outputs": [],
   "source": [
    "plt.errorbar(alpha_ar, logicXavg_ar, yerr = 2*np.array(logicXerr_ar), fmt = \"o\",color = \"blue\", markersize=3, label = \"Circuit Result\")\n",
    "# plt.plot(alpha_ar, other_data, \"r-\", label=\"Theory result\")\n",
    "plt.legend()\n",
    "plt.title(r\"Logical <$\\overline{X}$> vs. Sweep Parameter\", size = 16)\n",
    "plt.xlabel(r\"Sweep parameter $\\frac{2\\alpha}{\\pi}$\", size = 12)\n",
    "plt.ylabel(r\"<$\\overline{X}$> = <$(-1)^{s_1 + s_3}$>\", size = 12)\n",
    "# plt.savefig()\n",
    "plt.show()"
   ]
  },
  {
   "cell_type": "markdown",
   "id": "21fd5193-a541-4b0a-9aab-411219f7967d",
   "metadata": {},
   "source": [
    "# Running VQE"
   ]
  },
  {
   "cell_type": "code",
   "execution_count": 5,
   "id": "34c662dd-3749-4804-8e96-df322f174a60",
   "metadata": {},
   "outputs": [],
   "source": [
    "theta_ar = np.linspace(0, np.pi/4, 100)"
   ]
  },
  {
   "cell_type": "markdown",
   "id": "6b247b14-687a-4c4b-8206-a919a0558a1c",
   "metadata": {},
   "source": [
    "Note: If just using the raw VQE data, then only $0 \\leq \\theta \\leq \\pi/4$ is required. If planning to do Fourier sum fits to the VQE data, then $0 \\leq \\theta \\leq \\pi/2$ for $\\langle K_i \\rangle$ and $0 \\leq \\theta \\leq \\pi$ for $\\langle X_i \\rangle$ should be used to capture a full period."
   ]
  },
  {
   "cell_type": "code",
   "execution_count": 6,
   "id": "2577963e-4714-4338-9bb0-c8584e842444",
   "metadata": {},
   "outputs": [],
   "source": [
    "best_qubits_one = [0]  # A list containing the position of the best single qubit\n",
    "best_qubits_three = [0,1,2]  # A list containing the postion of the best linearly connected three qubits\n",
    "shots_num = 8000"
   ]
  },
  {
   "cell_type": "markdown",
   "id": "55657df2-2b07-4f8e-af22-1dcbc3c6209a",
   "metadata": {},
   "source": [
    "### Running VQE without measurment error mitigation"
   ]
  },
  {
   "cell_type": "code",
   "execution_count": 7,
   "id": "f570dc5c-5119-4ece-9489-82970169d7c6",
   "metadata": {},
   "outputs": [
    {
     "name": "stdout",
     "output_type": "stream",
     "text": [
      "Job Status: job has successfully run\n",
      "All jobs have finished.\n",
      "Job Status: job has successfully run\n",
      "All jobs have finished.\n",
      "Job Status: job has successfully run\n",
      "All jobs have finished.\n",
      "Job Status: job has successfully run\n",
      "All jobs have finished.\n",
      "Job Status: job has successfully run\n",
      "All jobs have finished.\n"
     ]
    }
   ],
   "source": [
    "Xavg_ar, Xerr_ar = vqe.multiple_avgX(backend, best_qubits_one, shots_num, job_manager, theta_ar)"
   ]
  },
  {
   "cell_type": "code",
   "execution_count": 8,
   "id": "8a2dff17-11d3-4f7c-86bc-05e8e36112d8",
   "metadata": {},
   "outputs": [
    {
     "name": "stdout",
     "output_type": "stream",
     "text": [
      "Job Status: job has successfully run\n",
      "All jobs have finished.\n",
      "Job Status: job has successfully run\n",
      "All jobs have finished.\n",
      "Job Status: job has successfully run\n",
      "All jobs have finished.\n",
      "Job Status: job has successfully run\n",
      "All jobs have finished.\n",
      "Job Status: job has successfully run\n",
      "All jobs have finished.\n",
      "Job Status: job has successfully run\n",
      "All jobs have finished.\n"
     ]
    }
   ],
   "source": [
    "Kavg_ar, Kerr_ar = vqe.multiple_avgK(backend, best_qubits_one, best_qubits_three, shots_num, job_manager, theta_ar)"
   ]
  },
  {
   "cell_type": "markdown",
   "id": "c1850c6f-d17d-4cdb-9f56-618e2cf1cb8f",
   "metadata": {},
   "source": [
    "### Running VQE with measurement error mitigation"
   ]
  },
  {
   "cell_type": "code",
   "execution_count": 7,
   "id": "29f06a81-628e-4f36-877b-a65c3064943c",
   "metadata": {},
   "outputs": [
    {
     "name": "stdout",
     "output_type": "stream",
     "text": [
      "Job Status: job has successfully run\n"
     ]
    }
   ],
   "source": [
    "meas_filter_one = rcr.run_meas_error_calibs(backend, best_qubits_one, shots_num)"
   ]
  },
  {
   "cell_type": "code",
   "execution_count": 11,
   "id": "30bd50fb-7390-4bdf-92f6-cd4558bf7a71",
   "metadata": {},
   "outputs": [
    {
     "name": "stdout",
     "output_type": "stream",
     "text": [
      "Job Status: job has successfully run\n"
     ]
    }
   ],
   "source": [
    "meas_filter_three = rcr.run_meas_error_calibs(backend, best_qubits_three, shots_num)"
   ]
  },
  {
   "cell_type": "code",
   "execution_count": 8,
   "id": "90620326-fcd9-4942-91eb-f9c62bd59b49",
   "metadata": {},
   "outputs": [
    {
     "name": "stdout",
     "output_type": "stream",
     "text": [
      "Job Status: job has successfully run\n",
      "All jobs have finished.\n",
      "Job Status: job has successfully run\n",
      "All jobs have finished.\n",
      "Job Status: job has successfully run\n",
      "All jobs have finished.\n",
      "Job Status: job has successfully run\n",
      "All jobs have finished.\n",
      "Job Status: job has successfully run\n",
      "All jobs have finished.\n"
     ]
    }
   ],
   "source": [
    "Xavg_ar, Xerr_ar = vqe.multiple_avgX(backend, best_qubits_one, shots_num, job_manager, theta_ar, meas_filter_one)"
   ]
  },
  {
   "cell_type": "code",
   "execution_count": null,
   "id": "ffaa9ed8-ae23-40b1-9679-62d319eda846",
   "metadata": {},
   "outputs": [],
   "source": [
    "Kavg_ar, Kerr_ar = vqe.multiple_avgK(backend, best_qubits_one, best_qubits_three, shots_num, job_manager, theta_ar, meas_filter_one, meas_filter_three)"
   ]
  },
  {
   "cell_type": "markdown",
   "id": "a5548ffa-7088-4e85-bf49-fe880543ff35",
   "metadata": {},
   "source": [
    "### Saving data"
   ]
  },
  {
   "cell_type": "code",
   "execution_count": null,
   "id": "086310b3-8d8a-4478-b39b-af534f026f9f",
   "metadata": {},
   "outputs": [],
   "source": [
    "np.savetxt(\"\", Xavg_ar, delimiter=\",\")\n",
    "np.savetxt(\"\", Xerr_ar, delimiter=\",\")\n",
    "np.savetxt(\"\", Kavg_ar, delimiter=\",\")\n",
    "np.savetxt(\"\", Kerr_ar, delimiter=\",\")"
   ]
  },
  {
   "cell_type": "markdown",
   "id": "7b769329-1bb9-463f-9449-69e52e3bc19a",
   "metadata": {},
   "source": [
    "# Getting Coefficients from VQE"
   ]
  },
  {
   "cell_type": "code",
   "execution_count": 8,
   "id": "b9dcf6c7-8201-47c7-8823-41e169a7ceb6",
   "metadata": {},
   "outputs": [],
   "source": [
    "alpha_ar = np.linspace(0, np.pi/2, 100)"
   ]
  },
  {
   "cell_type": "markdown",
   "id": "27108c0f-a577-4de4-8152-6a9531541edf",
   "metadata": {},
   "source": [
    "### Direct Calculation"
   ]
  },
  {
   "cell_type": "code",
   "execution_count": 9,
   "id": "446569e6-d99a-4913-a98b-de8ddf08284a",
   "metadata": {},
   "outputs": [
    {
     "ename": "NameError",
     "evalue": "name 'alpha_ar' is not defined",
     "output_type": "error",
     "traceback": [
      "\u001b[0;31m---------------------------------------------------------------------------\u001b[0m",
      "\u001b[0;31mNameError\u001b[0m                                 Traceback (most recent call last)",
      "\u001b[0;32m<ipython-input-9-b626762ad480>\u001b[0m in \u001b[0;36m<module>\u001b[0;34m\u001b[0m\n\u001b[0;32m----> 1\u001b[0;31m \u001b[0mthetamin_raw_ar\u001b[0m \u001b[0;34m=\u001b[0m \u001b[0mvqe\u001b[0m\u001b[0;34m.\u001b[0m\u001b[0mmultiple_get_thetamin_VQE\u001b[0m\u001b[0;34m(\u001b[0m\u001b[0malpha_ar\u001b[0m\u001b[0;34m,\u001b[0m \u001b[0mtheta_ar\u001b[0m\u001b[0;34m,\u001b[0m \u001b[0mXavg_ar\u001b[0m\u001b[0;34m,\u001b[0m \u001b[0mKavg_ar\u001b[0m\u001b[0;34m)\u001b[0m\u001b[0;34m\u001b[0m\u001b[0;34m\u001b[0m\u001b[0m\n\u001b[0m\u001b[1;32m      2\u001b[0m \u001b[0macoeff_ar\u001b[0m\u001b[0;34m,\u001b[0m \u001b[0mbcoeff_ar\u001b[0m \u001b[0;34m=\u001b[0m \u001b[0mvqe\u001b[0m\u001b[0;34m.\u001b[0m\u001b[0mgetT_VQE\u001b[0m\u001b[0;34m(\u001b[0m\u001b[0mthetamin_raw_ar\u001b[0m\u001b[0;34m)\u001b[0m\u001b[0;34m\u001b[0m\u001b[0;34m\u001b[0m\u001b[0m\n",
      "\u001b[0;31mNameError\u001b[0m: name 'alpha_ar' is not defined"
     ]
    }
   ],
   "source": [
    "thetamin_raw_ar = vqe.multiple_get_thetamin_VQE(alpha_ar, theta_ar, Xavg_ar, Kavg_ar)\n",
    "acoeff_ar, bcoeff_ar = vqe.getT_VQE(thetamin_raw_ar)"
   ]
  },
  {
   "cell_type": "markdown",
   "id": "b47c436c-0086-401f-bd22-30d8556e8871",
   "metadata": {},
   "source": [
    "### Calculation with Fourier Fits"
   ]
  },
  {
   "cell_type": "code",
   "execution_count": 9,
   "id": "5c1917d5-53ed-4890-a258-bdad1140f79f",
   "metadata": {},
   "outputs": [],
   "source": [
    "maxn = 50"
   ]
  },
  {
   "cell_type": "code",
   "execution_count": 10,
   "id": "7f8baa96-5612-4923-a0ce-614e9894f525",
   "metadata": {},
   "outputs": [],
   "source": [
    "Xfouriercoeff_ar = vqe.mult_fouriercoeff(theta_ar, np.pi, maxn, Xavg_ar)\n",
    "Kfouriercoeff_ar = vqe.mult_fouriercoeff(theta_ar, np.pi/2, maxn, Kavg_ar)"
   ]
  },
  {
   "cell_type": "code",
   "execution_count": 11,
   "id": "93df5571-fea4-4f45-a408-d0124cbd84c1",
   "metadata": {},
   "outputs": [],
   "source": [
    "Xapprox_ar = vqe.fourierfit(theta_ar, [1, 3, 5, 7, 9], Xfouriercoeff_ar)\n",
    "Kapprox_ar = vqe.fourierfit(theta_ar, [0, 2, 4, 6, 8], Kfouriercoeff_ar)#"
   ]
  },
  {
   "cell_type": "markdown",
   "id": "04ec4235-987a-4d69-9a28-947373330bb7",
   "metadata": {},
   "source": [
    "Note that $\\langle X_i \\rangle$ is an odd function of $\\theta$ and $\\langle K_i \\rangle$ is an even function of $\\theta$. So, when calculating the fourier sum approximation, we can be selective with the coefficients. Also, the fourier sum is better truncated before the coeffficients get too high, wherin the fit will add back the experimental noise (of which the removal is the entire point of the fourier fitting). A plot of the magnitude of the coefficients can be done to see at what point they drop off and hence can be neglected in the fit."
   ]
  },
  {
   "cell_type": "code",
   "execution_count": null,
   "id": "14d15c3c-776e-4e2b-ab19-aba8130c8d85",
   "metadata": {},
   "outputs": [],
   "source": [
    "thetamin_approx_ar = vqe.multiple_get_thetamin_VQE(alpha_ar, theta_ar, Xapprox_ar, Kapprox_ar)\n",
    "acoeff_ar, bcoeff_ar = vqe.getT_VQE(thetamin_ar)"
   ]
  },
  {
   "cell_type": "markdown",
   "id": "ec47ef34-86c5-4584-a27d-d3f6b23f26e6",
   "metadata": {},
   "source": [
    "### Analytic Result"
   ]
  },
  {
   "cell_type": "code",
   "execution_count": 9,
   "id": "13e1a5c0-eaa9-4ba8-a7e8-b5c42072f821",
   "metadata": {},
   "outputs": [
    {
     "name": "stdout",
     "output_type": "stream",
     "text": [
      "[0.         0.00793323 0.00793323 0.01586596 0.01586596 0.0237977\n",
      " 0.0237977  0.03172793 0.03172793 0.03965617 0.03965617 0.04758192\n",
      " 0.04758192 0.05550466 0.05550466 0.06342392 0.06342392 0.07133918\n",
      " 0.07133918 0.07924996 0.07924996 0.08715574 0.08715574 0.09505604\n",
      " 0.09505604 0.10295036 0.10295036 0.1108382  0.1108382  0.11871906\n",
      " 0.11871906 0.12659245 0.13445788 0.13445788 0.14231484 0.14231484\n",
      " 0.15016284 0.15016284 0.1580014  0.16583001 0.16583001 0.17364818\n",
      " 0.17364818 0.18145542 0.18145542 0.18925124 0.19703516 0.19703516\n",
      " 0.20480667 0.21256529 0.21256529 0.22031053 0.22804191 0.22804191\n",
      " 0.23575894 0.24346112 0.24346112 0.25114799 0.25881905 0.25881905\n",
      " 0.26647381 0.27411181 0.28173256 0.28173256 0.28933557 0.29692038\n",
      " 0.30448649 0.31203345 0.31203345 0.31956076 0.32706796 0.33455458\n",
      " 0.34202014 0.34946418 0.35688622 0.3642858  0.37166246 0.37901572\n",
      " 0.38634513 0.39365022 0.40093054 0.40818562 0.42261826 0.42979491\n",
      " 0.43694451 0.44406661 0.45822652 0.46526344 0.47924899 0.48619674\n",
      " 0.5        0.51367739 0.52722547 0.54064082 0.55392006 0.57357644\n",
      " 0.59290793 0.61190359 0.64278761 0.70710678]\n"
     ]
    }
   ],
   "source": [
    "Xavg_analytic_ar = vqe.predictedX(theta_ar)\n",
    "Kavg_analytic_ar = vqe.predictedK(theta_ar)\n",
    "\n",
    "thetamin_analytic_ar = vqe.multiple_get_thetamin_VQE(alpha_ar, theta_ar, Xavg_analytic_ar, Kavg_analytic_ar)\n",
    "acoeff_ar, bcoeff_ar = vqe.getT_VQE(thetamin_analytic_ar)"
   ]
  },
  {
   "cell_type": "markdown",
   "id": "d61dacf2-968a-484c-8ae1-8ee1f8644f99",
   "metadata": {},
   "source": [
    "## Saving Results"
   ]
  },
  {
   "cell_type": "code",
   "execution_count": null,
   "id": "0b9af6a3-6691-4ef2-9419-a3fa98886fdc",
   "metadata": {},
   "outputs": [],
   "source": [
    "np.savetxt(\"\", acoeff_ar, delimiter=\",\")\n",
    "np.savetxt(\"\", bcoeff_ar, delimiter=\",\")"
   ]
  }
 ],
 "metadata": {
  "kernelspec": {
   "display_name": "Python 3",
   "language": "python",
   "name": "python3"
  },
  "language_info": {
   "codemirror_mode": {
    "name": "ipython",
    "version": 3
   },
   "file_extension": ".py",
   "mimetype": "text/x-python",
   "name": "python",
   "nbconvert_exporter": "python",
   "pygments_lexer": "ipython3",
   "version": "3.8.10"
  }
 },
 "nbformat": 4,
 "nbformat_minor": 5
}
