{
 "cells": [
  {
   "cell_type": "markdown",
   "id": "5fd9151e-8934-4cd2-bacf-e17fc9854d45",
   "metadata": {},
   "source": [
    "# Imports"
   ]
  },
  {
   "cell_type": "code",
   "execution_count": 1,
   "id": "e07b0dd6-1b1f-4023-b8d5-0a081c7ab3d1",
   "metadata": {},
   "outputs": [],
   "source": [
    "import numpy as np\n",
    "import matplotlib.pyplot as plt\n",
    "from qiskit import *\n",
    "from qiskit.providers.ibmq.managed import IBMQJobManager\n",
    "from qiskit.tools.monitor import job_monitor\n",
    "from qiskit.ignis.mitigation.measurement import (complete_meas_cal,CompleteMeasFitter)"
   ]
  },
  {
   "cell_type": "code",
   "execution_count": 2,
   "id": "7df111c7-a2fd-4271-87d5-5e4542d789b7",
   "metadata": {},
   "outputs": [],
   "source": [
    "token = '' # Put in your IBM token\n",
    "IBMQ.save_account(token, overwrite=True)\n",
    "IBMQ.load_account()\n",
    "provider = IBMQ.get_provider(group='open')"
   ]
  },
  {
   "cell_type": "code",
   "execution_count": 26,
   "id": "88ad4954-4728-49e2-bad0-d29c9367fd1f",
   "metadata": {},
   "outputs": [
    {
     "name": "stdout",
     "output_type": "stream",
     "text": [
      "ibm_oslo\n"
     ]
    }
   ],
   "source": [
    "backend_sims = [\"ibmq_qasm_simulator\", \"simulator_statevector\"]\n",
    "backends = [\"ibmq_manila\", \"ibmq_quito\", \"ibmq_belem\", \"ibmq_lima\", \"ibm_oslo\", \"ibm_nairobi\"]\n",
    "\n",
    "job_manager = IBMQJobManager()\n",
    "backend = provider.get_backend(backends[4]) # Either use backend_sim for simulator, or backends[x] for device\n",
    "print(backend)"
   ]
  },
  {
   "cell_type": "code",
   "execution_count": 4,
   "id": "a55f95d7",
   "metadata": {},
   "outputs": [],
   "source": [
    "# Functions for states/gates requried for the SOP=COP circuits\n",
    "def get_modified_state(beta, outcome, a, b):\n",
    "    \"\"\"\n",
    "    Returns |phi_outcome> =  T^dagger |psi(+/- beta)_outcome> \n",
    "            where  |psi(+/- beta)_outcome> is the + or - eigenstate of the O(beta) operator.\n",
    "    Inputs: beta - Rotation angle\n",
    "            outcome - 0 for the + outcome, 1 for the - outcome\n",
    "            a, b - Coefficients of the T operator (aI + bX)\n",
    "    Outputs: Returns |phi_outcome> as 1d numpy array. NOTE: NOT NORMALIZED\n",
    "    \"\"\"\n",
    "    if outcome == 0:\n",
    "        state = np.array([np.exp(complex(0,beta)), 1])/np.sqrt(2)  # + Eigenstate of O(beta)\n",
    "    else:  # Outcome == 1\n",
    "        state = np.array([-np.exp(complex(0,beta)), 1])/np.sqrt(2) # - Eigenstate of O(beta)\n",
    "    flipped_state = np.array([state[1], state[0]])\n",
    "    return np.conjugate(a) * state + np.conjugate(b) * flipped_state\n",
    "\n",
    "\n",
    "def get_orthogonal_vector(vector):\n",
    "    \"\"\"\n",
    "    Returns 2d vector orthogonal to the given vector\n",
    "    Inputs: vector - a 2-entry 1d numpy array\n",
    "    Outputs: vector_perp - a 2-entry 1d numpy array, orthogonal to the input vector\n",
    "    \"\"\"\n",
    "    vector_perp = np.array([-np.conjugate(vector[1]), np.conjugate(vector[0])])\n",
    "    # For a complex vector [v1, v2], an orthogonal vector is given by [-v2^*, v1^*].\n",
    "    return vector_perp\n",
    "    \n",
    "\n",
    "def shift_meas_basis(qc, beta, qubit, outcome, a, b):\n",
    "    \"\"\"\n",
    "    Shifts measurement basis for the specified qubit by applying unitary on that qubit for measurements in nontrivial basis.\n",
    "    Original unitary is R_z(+/- beta) H (corresponding to measurement in O(+/- beta) = cos(beta) X +/- sin(beta)Y). \n",
    "    New unitary is U = |0><phi_outcome| + |1><phi_outcome^perp| where |phi_outcome> = T^dagger |psi(+/- beta)_outcome>\n",
    "        where |psi(+/- beta)_outcome> is the + or - eigenstate of the O(+/- beta) operator.\n",
    "    Inputs: qc - QuantumCircuit object\n",
    "            beta - Rotation angle\n",
    "            qubit - Which qubit we are shifting the measurement basis for (by applying the unitary). Must be 0 or 2.\n",
    "            outcome - 0 for measuring in the + outcome basis, 1 for the - outcome basis\n",
    "            a, b - Coefficients of the T operator (aI + bX)\n",
    "    Outputs: None\n",
    "    \"\"\"\n",
    "    zero_state = np.array([1, 0])\n",
    "    one_state = np.array([0, 1])\n",
    "    phi = get_modified_state(beta, outcome, a, b)\n",
    "    phi_perp = get_orthogonal_vector(phi)\n",
    "    U = np.outer(zero_state, phi.conj())/np.sqrt(phi.conj() @ phi) + np.outer(one_state, phi_perp.conj())/np.sqrt(phi_perp.conj() @ phi_perp)  #  U = |0><phi|/sqrt(<phi|phi>) + |1><phi^perp|/sqrt(<phi^perp|phi^perp>)\n",
    "    if beta == 0:\n",
    "        sign = \"\"\n",
    "    else:\n",
    "        sign = beta/abs(beta)\n",
    "    gate_label = \"U(\" + str(sign) + str(np.round(beta, 3)) + str(outcome)\n",
    "    qc.unitary(U, qubit, label = gate_label)"
   ]
  },
  {
   "cell_type": "code",
   "execution_count": 5,
   "id": "7a3ccee0",
   "metadata": {},
   "outputs": [],
   "source": [
    "# Functions for preparing + running COP circuits\n",
    "\n",
    "def generate_circuit(beta, a, b, qubit_3_outcome, meas_last_y):\n",
    "    \"\"\"\n",
    "    Generates one circuit corresponding to one measurement outcome of experiment we are trying to simulate.\n",
    "    A cluster state is prepared, then a rotation is conducted on the third site. A state tomography measurement\n",
    "    (either X or Y) is conducted on the last qubit. Post processing is done of outcomes to account for non-unitary T.\n",
    "    Inputs: beta - Rotation angle\n",
    "            a, b - Coefficients for the T tensor, which is a product of aI + bX.\n",
    "            qubit_3_outcome - Whether the position 3 qubit was measured to be the + or - outcome\n",
    "            meas_last_y - Whether the fifth qubit is measured in the Y or X basis\n",
    "    Outputs: The circuit\n",
    "    \"\"\"\n",
    "    # Initializes circuit\n",
    "    qr = QuantumRegister(5)\n",
    "    qc = QuantumCircuit(qr)\n",
    "    \n",
    "    # Creates 4-qubit chain\n",
    "    qc.h(qr)\n",
    "    \n",
    "    qc.cz([0, 1, 2, 3], [1, 2, 3, 4])\n",
    "\n",
    "    qc.barrier(qr)\n",
    "    \n",
    "    # Measure qubits 1, 2, 4 in x basis\n",
    "    qc.h(0)\n",
    "    qc.h(1)\n",
    "    qc.h(3)\n",
    "\n",
    "    # Measure qubit 3 in rotated basis\n",
    "    shift_meas_basis(qc, beta, 2, qubit_3_outcome, a, b)\n",
    "    \n",
    "    # Measure last qubit in Y basis (or X basis)\n",
    "    if meas_last_y == 0:\n",
    "        qc.sdg(4)  \n",
    "    qc.h(4)\n",
    "\n",
    "    qc.measure_all()\n",
    "    \n",
    "    return qc\n",
    "\n",
    "def generate_circuit_list(beta, a, b):\n",
    "    \"\"\"\n",
    "    Generates 2 circuits to simulate the 2 experiments \n",
    "    (one circuit corresponding to each measurement outcome of experiment we are trying to simulate)\n",
    "    Inputs: beta - Rotation angle\n",
    "            a, b - Coefficients for the T tensor, which is a product of aI + bX.\n",
    "    Outputs: List of 4 circuits.\n",
    "    \"\"\" \n",
    "    qc_list = []\n",
    "    for meas_last_y in range(2):\n",
    "        for qubit_3_outcome in range(2):\n",
    "            qc_list.append(generate_circuit(beta, a, b, qubit_3_outcome, meas_last_y))\n",
    "    return qc_list\n",
    "\n",
    "def run_circuit(qc_list, backend, best_qubits, shots_num, job_manager, meas_filter = 0):\n",
    "    \"\"\"\n",
    "    Runs quantum circuit(s)\n",
    "    Inputs: qc_list - List of QuantumCircuit Objects\n",
    "           backend - Which backend (simulator or device) to use\n",
    "           best_qubits - which qubits to use on the backend\n",
    "           shots_num - how many shots per experiment'\n",
    "           job_manager - IBMQ job manager\n",
    "           meas_filter - Measurement error mitigation filter; by default is not applied.\n",
    "    Outputs: List containing 4 dictionaries corresponding to counts/experimental results from supplied experiments.\n",
    "    \"\"\"\n",
    "    qc_trans = transpile(qc_list, backend=backend, initial_layout=best_qubits)\n",
    "    job_exp = job_manager.run(qc_trans, backend=backend, shots=shots_num, name='SPTexp_SOPCOP')\n",
    "    for i in range(len(job_exp.jobs())):\n",
    "        job_monitor(job_exp.jobs()[i])\n",
    "    print('All jobs have finished.')\n",
    "    results = job_exp.results()\n",
    "    \n",
    "    if meas_filter != 0:\n",
    "        counts_mit_list = []\n",
    "        for i in range(4):\n",
    "            r = results.get_counts(i)\n",
    "            mit_r = meas_filter.apply(r)\n",
    "            counts_mit_list.append(mit_r)\n",
    "        return counts_mit_list   \n",
    "    else:\n",
    "        counts_list = []\n",
    "        for i in range(4):\n",
    "            counts_list.append(results.get_counts(i))\n",
    "        return counts_list"
   ]
  },
  {
   "cell_type": "code",
   "execution_count": 6,
   "id": "5dc8231c",
   "metadata": {},
   "outputs": [],
   "source": [
    "# Functions for post-processing data\n",
    "def get_norms(beta, a, b):\n",
    "    \"\"\"\n",
    "    Calculate (squared) norms of the two |phi_outcome> =  T^dagger |psi(+/- beta)_outcome> states\n",
    "    Inputs: beta - Rotation angle\n",
    "            a, b - Coefficients for the T tensor, which is a product of aI + bX.\n",
    "    Outputs: List containing two squared norms (0/1 outcome norms for third qubit (with +beta)\n",
    "    \"\"\"\n",
    "    phi_qubit0_plus = get_modified_state(beta, 0, a, b)\n",
    "    norm_0_plus = phi_qubit0_plus.conj() @ phi_qubit0_plus\n",
    "    phi_qubit0_minus = get_modified_state(beta, 1, a, b)\n",
    "    norm_0_minus = phi_qubit0_minus.conj() @ phi_qubit0_minus\n",
    "\n",
    "    norms = [norm_0_plus, norm_0_minus]\n",
    "    return norms\n",
    "\n",
    "def get_probability(counts, qubit_3_outcome, meas_last_y, a, b):\n",
    "    \"\"\"\n",
    "    Note that qiskit reads from right to left; i.e. the rightmost is the 0 qubit, the leftmost is 3.\n",
    "    \n",
    "    Inputs: counts - Dictionary containing measurement statistics\n",
    "    Outputs: Probability for the 0-qubit = 0 and 2-qubit = 0 (+) outcome.\n",
    "    \"\"\"\n",
    "    states = counts.keys()\n",
    "    total_counts = 0\n",
    "    pos_counts = 0\n",
    "    neg_counts = 0\n",
    "    for state in states:\n",
    "        if state[2] == \"0\":\n",
    "            total_counts += counts.get(state)\n",
    "            s1 = int(state[4])\n",
    "            s3 = qubit_3_outcome\n",
    "            s5 = int(state[0])\n",
    "            if meas_last_y == 0:\n",
    "                s4 = int(state[1])\n",
    "            else:\n",
    "                s4 = 0\n",
    "            outcome = (s1 + s3 + s4 + s5) % 2\n",
    "            if outcome == 0:\n",
    "                pos_counts += counts.get(state)\n",
    "            else:\n",
    "                neg_counts += counts.get(state)\n",
    "    pos_prob = pos_counts/total_counts\n",
    "    neg_prob = neg_counts/total_counts\n",
    "    return [pos_prob, neg_prob]\n",
    "        \n",
    "\n",
    "def get_probabilities(counts_list, a, b):\n",
    "    \"\"\"\n",
    "    Converts counts from the 4 circuits (2 circuits each for measuring <X>, <Y>) into probabilities.\n",
    "    \"\"\"\n",
    "    avgY_probs = np.array([get_probability(counts_list[0], 0, 0, a, b), get_probability(counts_list[1], 1, 0, a, b)])\n",
    "    avgX_probs = np.array([get_probability(counts_list[2], 0, 1, a, b), get_probability(counts_list[3], 1, 1, a, b)])\n",
    "    return avgY_probs, avgX_probs\n",
    "\n",
    "\n",
    "def post_process_results(counts_list, beta, a, b):\n",
    "    \"\"\"\n",
    "    Inputs: counts_list - measurement outcomes from 4 circuits\n",
    "    beta - rotation angle\n",
    "    a, b - Parameters for T.\n",
    "\n",
    "    Outputs:Yavg, Xavg\n",
    "    \"\"\"\n",
    "    avgY_probs, avgX_probs = get_probabilities(counts_list, a, b)\n",
    "    norms = get_norms(beta, a, b)\n",
    "\n",
    "    for i in range(2):\n",
    "        avgY_probs[i] = avgY_probs[i] * norms[i]\n",
    "        avgX_probs[i] = avgX_probs[i] * norms[i]\n",
    "\n",
    "    total_Y = np.sum(avgY_probs)\n",
    "    total_X = np.sum(avgX_probs)\n",
    "\n",
    "    for i in range(2):\n",
    "        avgY_probs[i] = avgY_probs[i]/total_Y\n",
    "        avgX_probs[i] = avgX_probs[i]/total_X\n",
    "    \n",
    "    Yavg = avgY_probs[0][0] + avgY_probs[1][0] - avgY_probs[0][1] - avgY_probs[1][1]\n",
    "    Xavg = avgX_probs[0][0] + avgX_probs[1][0] - avgX_probs[0][1] - avgX_probs[1][1]\n",
    "\n",
    "    return Yavg, Xavg\n"
   ]
  },
  {
   "cell_type": "code",
   "execution_count": 7,
   "id": "a85bc85e",
   "metadata": {},
   "outputs": [],
   "source": [
    "# Measurement error calibrations\n",
    "def run_meas_error_calibs(backend, best_qubits, shots_num):\n",
    "    \"\"\"\n",
    "    Runs measurement error calibration circuits and returns a measurement error mitigation filter\n",
    "    Inputs: backend - Which backend (simulator or device) to use\n",
    "           best_qubits - which qubits to use on the backend\n",
    "           shots_num - how many shots per experiment\n",
    "    Outputs: meas_filter - Measurement error mitigation filter based on calibrations\n",
    "    \"\"\"\n",
    "    qc_err = qiskit.QuantumRegister(len(best_qubits))\n",
    "    meas_calibs, state_labels = complete_meas_cal(qr=qc_err, circlabel='mcal')\n",
    "    meas_calibs = transpile(meas_calibs, backend=backend, initial_layout=best_qubits)\n",
    "    job_err = qiskit.execute(meas_calibs, backend=backend, shots=shots_num)\n",
    "    job_monitor(job_err)\n",
    "    cal_result = job_err.result()\n",
    "    meas_fitter = CompleteMeasFitter(cal_result, state_labels, circlabel='mcal')\n",
    "    meas_filter = meas_fitter.filter\n",
    "    return meas_filter\n"
   ]
  },
  {
   "cell_type": "code",
   "execution_count": 8,
   "id": "3da32786",
   "metadata": {},
   "outputs": [],
   "source": [
    "def one_exp_point(backend, best_qubits, shots_num, job_manager, beta, a, b, meas_filter = 0):\n",
    "    \"\"\"\n",
    "    Obtains COP (<Y>, <X>) data for one rotation angle beta. \n",
    "    \"\"\"\n",
    "    qc_list = generate_circuit_list(beta, a, b)\n",
    "    counts_list = run_circuit(qc_list, backend, best_qubits, shots_num, job_manager, meas_filter)\n",
    "    Yavg, Xavg = post_process_results(counts_list, beta, a, b)\n",
    "    return Yavg, Xavg\n",
    "\n",
    "def many_exp_point(backend, best_qubits, shots_num, job_manager, beta_ar, a, b, meas_filter=0):\n",
    "    \"\"\"\n",
    "    Obtains COP (<Y>, <X>) data for multiple rotation angles beta.\n",
    "    \"\"\"\n",
    "    Yavg_ar = []\n",
    "    Xavg_ar = []\n",
    "\n",
    "    for beta in beta_ar:\n",
    "        Yavg, Xavg = one_exp_point(backend, best_qubits, shots_num, job_manager, beta, a, b, meas_filter)\n",
    "        Yavg_ar.append(Yavg)\n",
    "        Xavg_ar.append(Xavg)\n",
    "    return np.array(Yavg_ar), np.array(Xavg_ar)"
   ]
  },
  {
   "cell_type": "code",
   "execution_count": 27,
   "id": "54a12dd1",
   "metadata": {},
   "outputs": [],
   "source": [
    "best_qubits = [0, 1, 2, 3, 4]\n",
    "shots_num = 8000\n",
    "beta_ar = [0, np.pi/50, np.pi/10, np.pi/6, np.pi/4, np.pi/3]\n",
    "a = 1\n",
    "b = 0 # 1, 0 for the cluster state; can be replaced with coefficients from VQE for arbitrary SPT states."
   ]
  },
  {
   "cell_type": "code",
   "execution_count": 30,
   "id": "81d1835a",
   "metadata": {},
   "outputs": [
    {
     "name": "stdout",
     "output_type": "stream",
     "text": [
      "Job Status: job is queued (19)    "
     ]
    },
    {
     "ename": "KeyboardInterrupt",
     "evalue": "",
     "output_type": "error",
     "traceback": [
      "\u001b[0;31m---------------------------------------------------------------------------\u001b[0m",
      "\u001b[0;31mKeyboardInterrupt\u001b[0m                         Traceback (most recent call last)",
      "\u001b[0;32m<ipython-input-30-dd0ae88ea430>\u001b[0m in \u001b[0;36m<module>\u001b[0;34m\u001b[0m\n\u001b[0;32m----> 1\u001b[0;31m \u001b[0mmeas_filter\u001b[0m \u001b[0;34m=\u001b[0m \u001b[0mrun_meas_error_calibs\u001b[0m\u001b[0;34m(\u001b[0m\u001b[0mbackend\u001b[0m\u001b[0;34m,\u001b[0m \u001b[0mbest_qubits\u001b[0m\u001b[0;34m,\u001b[0m \u001b[0mshots_num\u001b[0m\u001b[0;34m)\u001b[0m\u001b[0;34m\u001b[0m\u001b[0;34m\u001b[0m\u001b[0m\n\u001b[0m",
      "\u001b[0;32m<ipython-input-7-036496eada5f>\u001b[0m in \u001b[0;36mrun_meas_error_calibs\u001b[0;34m(backend, best_qubits, shots_num)\u001b[0m\n\u001b[1;32m     12\u001b[0m     \u001b[0mmeas_calibs\u001b[0m \u001b[0;34m=\u001b[0m \u001b[0mtranspile\u001b[0m\u001b[0;34m(\u001b[0m\u001b[0mmeas_calibs\u001b[0m\u001b[0;34m,\u001b[0m \u001b[0mbackend\u001b[0m\u001b[0;34m=\u001b[0m\u001b[0mbackend\u001b[0m\u001b[0;34m,\u001b[0m \u001b[0minitial_layout\u001b[0m\u001b[0;34m=\u001b[0m\u001b[0mbest_qubits\u001b[0m\u001b[0;34m)\u001b[0m\u001b[0;34m\u001b[0m\u001b[0;34m\u001b[0m\u001b[0m\n\u001b[1;32m     13\u001b[0m     \u001b[0mjob_err\u001b[0m \u001b[0;34m=\u001b[0m \u001b[0mqiskit\u001b[0m\u001b[0;34m.\u001b[0m\u001b[0mexecute\u001b[0m\u001b[0;34m(\u001b[0m\u001b[0mmeas_calibs\u001b[0m\u001b[0;34m,\u001b[0m \u001b[0mbackend\u001b[0m\u001b[0;34m=\u001b[0m\u001b[0mbackend\u001b[0m\u001b[0;34m,\u001b[0m \u001b[0mshots\u001b[0m\u001b[0;34m=\u001b[0m\u001b[0mshots_num\u001b[0m\u001b[0;34m)\u001b[0m\u001b[0;34m\u001b[0m\u001b[0;34m\u001b[0m\u001b[0m\n\u001b[0;32m---> 14\u001b[0;31m     \u001b[0mjob_monitor\u001b[0m\u001b[0;34m(\u001b[0m\u001b[0mjob_err\u001b[0m\u001b[0;34m)\u001b[0m\u001b[0;34m\u001b[0m\u001b[0;34m\u001b[0m\u001b[0m\n\u001b[0m\u001b[1;32m     15\u001b[0m     \u001b[0mcal_result\u001b[0m \u001b[0;34m=\u001b[0m \u001b[0mjob_err\u001b[0m\u001b[0;34m.\u001b[0m\u001b[0mresult\u001b[0m\u001b[0;34m(\u001b[0m\u001b[0;34m)\u001b[0m\u001b[0;34m\u001b[0m\u001b[0;34m\u001b[0m\u001b[0m\n\u001b[1;32m     16\u001b[0m     \u001b[0mmeas_fitter\u001b[0m \u001b[0;34m=\u001b[0m \u001b[0mCompleteMeasFitter\u001b[0m\u001b[0;34m(\u001b[0m\u001b[0mcal_result\u001b[0m\u001b[0;34m,\u001b[0m \u001b[0mstate_labels\u001b[0m\u001b[0;34m,\u001b[0m \u001b[0mcirclabel\u001b[0m\u001b[0;34m=\u001b[0m\u001b[0;34m'mcal'\u001b[0m\u001b[0;34m)\u001b[0m\u001b[0;34m\u001b[0m\u001b[0;34m\u001b[0m\u001b[0m\n",
      "\u001b[0;32m~/opt/anaconda3/envs/Qiskit/lib/python3.8/site-packages/qiskit/tools/monitor/job_monitor.py\u001b[0m in \u001b[0;36mjob_monitor\u001b[0;34m(job, interval, quiet, output)\u001b[0m\n\u001b[1;32m     81\u001b[0m         \u001b[0m_interval_set\u001b[0m \u001b[0;34m=\u001b[0m \u001b[0;32mTrue\u001b[0m\u001b[0;34m\u001b[0m\u001b[0;34m\u001b[0m\u001b[0m\n\u001b[1;32m     82\u001b[0m \u001b[0;34m\u001b[0m\u001b[0m\n\u001b[0;32m---> 83\u001b[0;31m     _text_checker(job, interval, _interval_set,\n\u001b[0m\u001b[1;32m     84\u001b[0m                   quiet=quiet, output=output)\n",
      "\u001b[0;32m~/opt/anaconda3/envs/Qiskit/lib/python3.8/site-packages/qiskit/tools/monitor/job_monitor.py\u001b[0m in \u001b[0;36m_text_checker\u001b[0;34m(job, interval, _interval_set, quiet, output)\u001b[0m\n\u001b[1;32m     38\u001b[0m         \u001b[0mprint\u001b[0m\u001b[0;34m(\u001b[0m\u001b[0;34m'\\r%s: %s'\u001b[0m \u001b[0;34m%\u001b[0m \u001b[0;34m(\u001b[0m\u001b[0;34m'Job Status'\u001b[0m\u001b[0;34m,\u001b[0m \u001b[0mmsg\u001b[0m\u001b[0;34m)\u001b[0m\u001b[0;34m,\u001b[0m \u001b[0mend\u001b[0m\u001b[0;34m=\u001b[0m\u001b[0;34m''\u001b[0m\u001b[0;34m,\u001b[0m \u001b[0mfile\u001b[0m\u001b[0;34m=\u001b[0m\u001b[0moutput\u001b[0m\u001b[0;34m)\u001b[0m\u001b[0;34m\u001b[0m\u001b[0;34m\u001b[0m\u001b[0m\n\u001b[1;32m     39\u001b[0m     \u001b[0;32mwhile\u001b[0m \u001b[0mstatus\u001b[0m\u001b[0;34m.\u001b[0m\u001b[0mname\u001b[0m \u001b[0;32mnot\u001b[0m \u001b[0;32min\u001b[0m \u001b[0;34m[\u001b[0m\u001b[0;34m'DONE'\u001b[0m\u001b[0;34m,\u001b[0m \u001b[0;34m'CANCELLED'\u001b[0m\u001b[0;34m,\u001b[0m \u001b[0;34m'ERROR'\u001b[0m\u001b[0;34m]\u001b[0m\u001b[0;34m:\u001b[0m\u001b[0;34m\u001b[0m\u001b[0;34m\u001b[0m\u001b[0m\n\u001b[0;32m---> 40\u001b[0;31m         \u001b[0mtime\u001b[0m\u001b[0;34m.\u001b[0m\u001b[0msleep\u001b[0m\u001b[0;34m(\u001b[0m\u001b[0minterval\u001b[0m\u001b[0;34m)\u001b[0m\u001b[0;34m\u001b[0m\u001b[0;34m\u001b[0m\u001b[0m\n\u001b[0m\u001b[1;32m     41\u001b[0m         \u001b[0mstatus\u001b[0m \u001b[0;34m=\u001b[0m \u001b[0mjob\u001b[0m\u001b[0;34m.\u001b[0m\u001b[0mstatus\u001b[0m\u001b[0;34m(\u001b[0m\u001b[0;34m)\u001b[0m\u001b[0;34m\u001b[0m\u001b[0;34m\u001b[0m\u001b[0m\n\u001b[1;32m     42\u001b[0m         \u001b[0mmsg\u001b[0m \u001b[0;34m=\u001b[0m \u001b[0mstatus\u001b[0m\u001b[0;34m.\u001b[0m\u001b[0mvalue\u001b[0m\u001b[0;34m\u001b[0m\u001b[0;34m\u001b[0m\u001b[0m\n",
      "\u001b[0;31mKeyboardInterrupt\u001b[0m: "
     ]
    }
   ],
   "source": [
    "meas_filter = run_meas_error_calibs(backend, best_qubits, shots_num)"
   ]
  },
  {
   "cell_type": "code",
   "execution_count": null,
   "id": "696b0949",
   "metadata": {},
   "outputs": [
    {
     "name": "stdout",
     "output_type": "stream",
     "text": [
      "Job Status: job is queued (75)    "
     ]
    },
    {
     "ename": "IBMQJobApiError",
     "evalue": "'\"HTTPSConnectionPool(host=\\'api.quantum-computing.ibm.com\\', port=443): Max retries exceeded with url: /api/Network/ibm-q/Groups/open/Projects/main/Jobs/63cc8217fbd2a7521f8c044c/status/v/1 (Caused by NewConnectionError(\\'<urllib3.connection.HTTPSConnection object at 0x7f91200d60d0>: Failed to establish a new connection: [Errno 8] nodename nor servname provided, or not known\\'))\"'",
     "output_type": "error",
     "traceback": [
      "\u001b[0;31m---------------------------------------------------------------------------\u001b[0m",
      "\u001b[0;31mgaierror\u001b[0m                                  Traceback (most recent call last)",
      "\u001b[0;32m~/opt/anaconda3/envs/Qiskit/lib/python3.8/site-packages/urllib3/connection.py\u001b[0m in \u001b[0;36m_new_conn\u001b[0;34m(self)\u001b[0m\n\u001b[1;32m    168\u001b[0m         \u001b[0;32mtry\u001b[0m\u001b[0;34m:\u001b[0m\u001b[0;34m\u001b[0m\u001b[0;34m\u001b[0m\u001b[0m\n\u001b[0;32m--> 169\u001b[0;31m             conn = connection.create_connection(\n\u001b[0m\u001b[1;32m    170\u001b[0m                 \u001b[0;34m(\u001b[0m\u001b[0mself\u001b[0m\u001b[0;34m.\u001b[0m\u001b[0m_dns_host\u001b[0m\u001b[0;34m,\u001b[0m \u001b[0mself\u001b[0m\u001b[0;34m.\u001b[0m\u001b[0mport\u001b[0m\u001b[0;34m)\u001b[0m\u001b[0;34m,\u001b[0m \u001b[0mself\u001b[0m\u001b[0;34m.\u001b[0m\u001b[0mtimeout\u001b[0m\u001b[0;34m,\u001b[0m \u001b[0;34m**\u001b[0m\u001b[0mextra_kw\u001b[0m\u001b[0;34m\u001b[0m\u001b[0;34m\u001b[0m\u001b[0m\n",
      "\u001b[0;32m~/opt/anaconda3/envs/Qiskit/lib/python3.8/site-packages/urllib3/util/connection.py\u001b[0m in \u001b[0;36mcreate_connection\u001b[0;34m(address, timeout, source_address, socket_options)\u001b[0m\n\u001b[1;32m     72\u001b[0m \u001b[0;34m\u001b[0m\u001b[0m\n\u001b[0;32m---> 73\u001b[0;31m     \u001b[0;32mfor\u001b[0m \u001b[0mres\u001b[0m \u001b[0;32min\u001b[0m \u001b[0msocket\u001b[0m\u001b[0;34m.\u001b[0m\u001b[0mgetaddrinfo\u001b[0m\u001b[0;34m(\u001b[0m\u001b[0mhost\u001b[0m\u001b[0;34m,\u001b[0m \u001b[0mport\u001b[0m\u001b[0;34m,\u001b[0m \u001b[0mfamily\u001b[0m\u001b[0;34m,\u001b[0m \u001b[0msocket\u001b[0m\u001b[0;34m.\u001b[0m\u001b[0mSOCK_STREAM\u001b[0m\u001b[0;34m)\u001b[0m\u001b[0;34m:\u001b[0m\u001b[0;34m\u001b[0m\u001b[0;34m\u001b[0m\u001b[0m\n\u001b[0m\u001b[1;32m     74\u001b[0m         \u001b[0maf\u001b[0m\u001b[0;34m,\u001b[0m \u001b[0msocktype\u001b[0m\u001b[0;34m,\u001b[0m \u001b[0mproto\u001b[0m\u001b[0;34m,\u001b[0m \u001b[0mcanonname\u001b[0m\u001b[0;34m,\u001b[0m \u001b[0msa\u001b[0m \u001b[0;34m=\u001b[0m \u001b[0mres\u001b[0m\u001b[0;34m\u001b[0m\u001b[0;34m\u001b[0m\u001b[0m\n",
      "\u001b[0;32m~/opt/anaconda3/envs/Qiskit/lib/python3.8/socket.py\u001b[0m in \u001b[0;36mgetaddrinfo\u001b[0;34m(host, port, family, type, proto, flags)\u001b[0m\n\u001b[1;32m    917\u001b[0m     \u001b[0maddrlist\u001b[0m \u001b[0;34m=\u001b[0m \u001b[0;34m[\u001b[0m\u001b[0;34m]\u001b[0m\u001b[0;34m\u001b[0m\u001b[0;34m\u001b[0m\u001b[0m\n\u001b[0;32m--> 918\u001b[0;31m     \u001b[0;32mfor\u001b[0m \u001b[0mres\u001b[0m \u001b[0;32min\u001b[0m \u001b[0m_socket\u001b[0m\u001b[0;34m.\u001b[0m\u001b[0mgetaddrinfo\u001b[0m\u001b[0;34m(\u001b[0m\u001b[0mhost\u001b[0m\u001b[0;34m,\u001b[0m \u001b[0mport\u001b[0m\u001b[0;34m,\u001b[0m \u001b[0mfamily\u001b[0m\u001b[0;34m,\u001b[0m \u001b[0mtype\u001b[0m\u001b[0;34m,\u001b[0m \u001b[0mproto\u001b[0m\u001b[0;34m,\u001b[0m \u001b[0mflags\u001b[0m\u001b[0;34m)\u001b[0m\u001b[0;34m:\u001b[0m\u001b[0;34m\u001b[0m\u001b[0;34m\u001b[0m\u001b[0m\n\u001b[0m\u001b[1;32m    919\u001b[0m         \u001b[0maf\u001b[0m\u001b[0;34m,\u001b[0m \u001b[0msocktype\u001b[0m\u001b[0;34m,\u001b[0m \u001b[0mproto\u001b[0m\u001b[0;34m,\u001b[0m \u001b[0mcanonname\u001b[0m\u001b[0;34m,\u001b[0m \u001b[0msa\u001b[0m \u001b[0;34m=\u001b[0m \u001b[0mres\u001b[0m\u001b[0;34m\u001b[0m\u001b[0;34m\u001b[0m\u001b[0m\n",
      "\u001b[0;31mgaierror\u001b[0m: [Errno 8] nodename nor servname provided, or not known",
      "\nDuring handling of the above exception, another exception occurred:\n",
      "\u001b[0;31mNewConnectionError\u001b[0m                        Traceback (most recent call last)",
      "\u001b[0;32m~/opt/anaconda3/envs/Qiskit/lib/python3.8/site-packages/urllib3/connectionpool.py\u001b[0m in \u001b[0;36murlopen\u001b[0;34m(self, method, url, body, headers, retries, redirect, assert_same_host, timeout, pool_timeout, release_conn, chunked, body_pos, **response_kw)\u001b[0m\n\u001b[1;32m    698\u001b[0m             \u001b[0;31m# Make the request on the httplib connection object.\u001b[0m\u001b[0;34m\u001b[0m\u001b[0;34m\u001b[0m\u001b[0;34m\u001b[0m\u001b[0m\n\u001b[0;32m--> 699\u001b[0;31m             httplib_response = self._make_request(\n\u001b[0m\u001b[1;32m    700\u001b[0m                 \u001b[0mconn\u001b[0m\u001b[0;34m,\u001b[0m\u001b[0;34m\u001b[0m\u001b[0;34m\u001b[0m\u001b[0m\n",
      "\u001b[0;32m~/opt/anaconda3/envs/Qiskit/lib/python3.8/site-packages/urllib3/connectionpool.py\u001b[0m in \u001b[0;36m_make_request\u001b[0;34m(self, conn, method, url, timeout, chunked, **httplib_request_kw)\u001b[0m\n\u001b[1;32m    381\u001b[0m         \u001b[0;32mtry\u001b[0m\u001b[0;34m:\u001b[0m\u001b[0;34m\u001b[0m\u001b[0;34m\u001b[0m\u001b[0m\n\u001b[0;32m--> 382\u001b[0;31m             \u001b[0mself\u001b[0m\u001b[0;34m.\u001b[0m\u001b[0m_validate_conn\u001b[0m\u001b[0;34m(\u001b[0m\u001b[0mconn\u001b[0m\u001b[0;34m)\u001b[0m\u001b[0;34m\u001b[0m\u001b[0;34m\u001b[0m\u001b[0m\n\u001b[0m\u001b[1;32m    383\u001b[0m         \u001b[0;32mexcept\u001b[0m \u001b[0;34m(\u001b[0m\u001b[0mSocketTimeout\u001b[0m\u001b[0;34m,\u001b[0m \u001b[0mBaseSSLError\u001b[0m\u001b[0;34m)\u001b[0m \u001b[0;32mas\u001b[0m \u001b[0me\u001b[0m\u001b[0;34m:\u001b[0m\u001b[0;34m\u001b[0m\u001b[0;34m\u001b[0m\u001b[0m\n",
      "\u001b[0;32m~/opt/anaconda3/envs/Qiskit/lib/python3.8/site-packages/urllib3/connectionpool.py\u001b[0m in \u001b[0;36m_validate_conn\u001b[0;34m(self, conn)\u001b[0m\n\u001b[1;32m   1009\u001b[0m         \u001b[0;32mif\u001b[0m \u001b[0;32mnot\u001b[0m \u001b[0mgetattr\u001b[0m\u001b[0;34m(\u001b[0m\u001b[0mconn\u001b[0m\u001b[0;34m,\u001b[0m \u001b[0;34m\"sock\"\u001b[0m\u001b[0;34m,\u001b[0m \u001b[0;32mNone\u001b[0m\u001b[0;34m)\u001b[0m\u001b[0;34m:\u001b[0m  \u001b[0;31m# AppEngine might not have  `.sock`\u001b[0m\u001b[0;34m\u001b[0m\u001b[0;34m\u001b[0m\u001b[0m\n\u001b[0;32m-> 1010\u001b[0;31m             \u001b[0mconn\u001b[0m\u001b[0;34m.\u001b[0m\u001b[0mconnect\u001b[0m\u001b[0;34m(\u001b[0m\u001b[0;34m)\u001b[0m\u001b[0;34m\u001b[0m\u001b[0;34m\u001b[0m\u001b[0m\n\u001b[0m\u001b[1;32m   1011\u001b[0m \u001b[0;34m\u001b[0m\u001b[0m\n",
      "\u001b[0;32m~/opt/anaconda3/envs/Qiskit/lib/python3.8/site-packages/urllib3/connection.py\u001b[0m in \u001b[0;36mconnect\u001b[0;34m(self)\u001b[0m\n\u001b[1;32m    352\u001b[0m         \u001b[0;31m# Add certificate verification\u001b[0m\u001b[0;34m\u001b[0m\u001b[0;34m\u001b[0m\u001b[0;34m\u001b[0m\u001b[0m\n\u001b[0;32m--> 353\u001b[0;31m         \u001b[0mconn\u001b[0m \u001b[0;34m=\u001b[0m \u001b[0mself\u001b[0m\u001b[0;34m.\u001b[0m\u001b[0m_new_conn\u001b[0m\u001b[0;34m(\u001b[0m\u001b[0;34m)\u001b[0m\u001b[0;34m\u001b[0m\u001b[0;34m\u001b[0m\u001b[0m\n\u001b[0m\u001b[1;32m    354\u001b[0m         \u001b[0mhostname\u001b[0m \u001b[0;34m=\u001b[0m \u001b[0mself\u001b[0m\u001b[0;34m.\u001b[0m\u001b[0mhost\u001b[0m\u001b[0;34m\u001b[0m\u001b[0;34m\u001b[0m\u001b[0m\n",
      "\u001b[0;32m~/opt/anaconda3/envs/Qiskit/lib/python3.8/site-packages/urllib3/connection.py\u001b[0m in \u001b[0;36m_new_conn\u001b[0;34m(self)\u001b[0m\n\u001b[1;32m    180\u001b[0m         \u001b[0;32mexcept\u001b[0m \u001b[0mSocketError\u001b[0m \u001b[0;32mas\u001b[0m \u001b[0me\u001b[0m\u001b[0;34m:\u001b[0m\u001b[0;34m\u001b[0m\u001b[0;34m\u001b[0m\u001b[0m\n\u001b[0;32m--> 181\u001b[0;31m             raise NewConnectionError(\n\u001b[0m\u001b[1;32m    182\u001b[0m                 \u001b[0mself\u001b[0m\u001b[0;34m,\u001b[0m \u001b[0;34m\"Failed to establish a new connection: %s\"\u001b[0m \u001b[0;34m%\u001b[0m \u001b[0me\u001b[0m\u001b[0;34m\u001b[0m\u001b[0;34m\u001b[0m\u001b[0m\n",
      "\u001b[0;31mNewConnectionError\u001b[0m: <urllib3.connection.HTTPSConnection object at 0x7f91200d60d0>: Failed to establish a new connection: [Errno 8] nodename nor servname provided, or not known",
      "\nDuring handling of the above exception, another exception occurred:\n",
      "\u001b[0;31mMaxRetryError\u001b[0m                             Traceback (most recent call last)",
      "\u001b[0;32m~/opt/anaconda3/envs/Qiskit/lib/python3.8/site-packages/requests/adapters.py\u001b[0m in \u001b[0;36msend\u001b[0;34m(self, request, stream, timeout, verify, cert, proxies)\u001b[0m\n\u001b[1;32m    438\u001b[0m             \u001b[0;32mif\u001b[0m \u001b[0;32mnot\u001b[0m \u001b[0mchunked\u001b[0m\u001b[0;34m:\u001b[0m\u001b[0;34m\u001b[0m\u001b[0;34m\u001b[0m\u001b[0m\n\u001b[0;32m--> 439\u001b[0;31m                 resp = conn.urlopen(\n\u001b[0m\u001b[1;32m    440\u001b[0m                     \u001b[0mmethod\u001b[0m\u001b[0;34m=\u001b[0m\u001b[0mrequest\u001b[0m\u001b[0;34m.\u001b[0m\u001b[0mmethod\u001b[0m\u001b[0;34m,\u001b[0m\u001b[0;34m\u001b[0m\u001b[0;34m\u001b[0m\u001b[0m\n",
      "\u001b[0;32m~/opt/anaconda3/envs/Qiskit/lib/python3.8/site-packages/urllib3/connectionpool.py\u001b[0m in \u001b[0;36murlopen\u001b[0;34m(self, method, url, body, headers, retries, redirect, assert_same_host, timeout, pool_timeout, release_conn, chunked, body_pos, **response_kw)\u001b[0m\n\u001b[1;32m    782\u001b[0m             )\n\u001b[0;32m--> 783\u001b[0;31m             return self.urlopen(\n\u001b[0m\u001b[1;32m    784\u001b[0m                 \u001b[0mmethod\u001b[0m\u001b[0;34m,\u001b[0m\u001b[0;34m\u001b[0m\u001b[0;34m\u001b[0m\u001b[0m\n",
      "\u001b[0;32m~/opt/anaconda3/envs/Qiskit/lib/python3.8/site-packages/urllib3/connectionpool.py\u001b[0m in \u001b[0;36murlopen\u001b[0;34m(self, method, url, body, headers, retries, redirect, assert_same_host, timeout, pool_timeout, release_conn, chunked, body_pos, **response_kw)\u001b[0m\n\u001b[1;32m    782\u001b[0m             )\n\u001b[0;32m--> 783\u001b[0;31m             return self.urlopen(\n\u001b[0m\u001b[1;32m    784\u001b[0m                 \u001b[0mmethod\u001b[0m\u001b[0;34m,\u001b[0m\u001b[0;34m\u001b[0m\u001b[0;34m\u001b[0m\u001b[0m\n",
      "\u001b[0;32m~/opt/anaconda3/envs/Qiskit/lib/python3.8/site-packages/urllib3/connectionpool.py\u001b[0m in \u001b[0;36murlopen\u001b[0;34m(self, method, url, body, headers, retries, redirect, assert_same_host, timeout, pool_timeout, release_conn, chunked, body_pos, **response_kw)\u001b[0m\n\u001b[1;32m    782\u001b[0m             )\n\u001b[0;32m--> 783\u001b[0;31m             return self.urlopen(\n\u001b[0m\u001b[1;32m    784\u001b[0m                 \u001b[0mmethod\u001b[0m\u001b[0;34m,\u001b[0m\u001b[0;34m\u001b[0m\u001b[0;34m\u001b[0m\u001b[0m\n",
      "\u001b[0;32m~/opt/anaconda3/envs/Qiskit/lib/python3.8/site-packages/urllib3/connectionpool.py\u001b[0m in \u001b[0;36murlopen\u001b[0;34m(self, method, url, body, headers, retries, redirect, assert_same_host, timeout, pool_timeout, release_conn, chunked, body_pos, **response_kw)\u001b[0m\n\u001b[1;32m    782\u001b[0m             )\n\u001b[0;32m--> 783\u001b[0;31m             return self.urlopen(\n\u001b[0m\u001b[1;32m    784\u001b[0m                 \u001b[0mmethod\u001b[0m\u001b[0;34m,\u001b[0m\u001b[0;34m\u001b[0m\u001b[0;34m\u001b[0m\u001b[0m\n",
      "\u001b[0;32m~/opt/anaconda3/envs/Qiskit/lib/python3.8/site-packages/urllib3/connectionpool.py\u001b[0m in \u001b[0;36murlopen\u001b[0;34m(self, method, url, body, headers, retries, redirect, assert_same_host, timeout, pool_timeout, release_conn, chunked, body_pos, **response_kw)\u001b[0m\n\u001b[1;32m    754\u001b[0m \u001b[0;34m\u001b[0m\u001b[0m\n\u001b[0;32m--> 755\u001b[0;31m             retries = retries.increment(\n\u001b[0m\u001b[1;32m    756\u001b[0m                 \u001b[0mmethod\u001b[0m\u001b[0;34m,\u001b[0m \u001b[0murl\u001b[0m\u001b[0;34m,\u001b[0m \u001b[0merror\u001b[0m\u001b[0;34m=\u001b[0m\u001b[0me\u001b[0m\u001b[0;34m,\u001b[0m \u001b[0m_pool\u001b[0m\u001b[0;34m=\u001b[0m\u001b[0mself\u001b[0m\u001b[0;34m,\u001b[0m \u001b[0m_stacktrace\u001b[0m\u001b[0;34m=\u001b[0m\u001b[0msys\u001b[0m\u001b[0;34m.\u001b[0m\u001b[0mexc_info\u001b[0m\u001b[0;34m(\u001b[0m\u001b[0;34m)\u001b[0m\u001b[0;34m[\u001b[0m\u001b[0;36m2\u001b[0m\u001b[0;34m]\u001b[0m\u001b[0;34m\u001b[0m\u001b[0;34m\u001b[0m\u001b[0m\n",
      "\u001b[0;32m~/opt/anaconda3/envs/Qiskit/lib/python3.8/site-packages/qiskit/providers/ibmq/api/session.py\u001b[0m in \u001b[0;36mincrement\u001b[0;34m(self, method, url, response, error, _pool, _stacktrace)\u001b[0m\n\u001b[1;32m     96\u001b[0m                          method, url, status, error, data, headers)\n\u001b[0;32m---> 97\u001b[0;31m         return super().increment(method=method, url=url, response=response,\n\u001b[0m\u001b[1;32m     98\u001b[0m                                  error=error, _pool=_pool, _stacktrace=_stacktrace)\n",
      "\u001b[0;32m~/opt/anaconda3/envs/Qiskit/lib/python3.8/site-packages/urllib3/util/retry.py\u001b[0m in \u001b[0;36mincrement\u001b[0;34m(self, method, url, response, error, _pool, _stacktrace)\u001b[0m\n\u001b[1;32m    573\u001b[0m         \u001b[0;32mif\u001b[0m \u001b[0mnew_retry\u001b[0m\u001b[0;34m.\u001b[0m\u001b[0mis_exhausted\u001b[0m\u001b[0;34m(\u001b[0m\u001b[0;34m)\u001b[0m\u001b[0;34m:\u001b[0m\u001b[0;34m\u001b[0m\u001b[0;34m\u001b[0m\u001b[0m\n\u001b[0;32m--> 574\u001b[0;31m             \u001b[0;32mraise\u001b[0m \u001b[0mMaxRetryError\u001b[0m\u001b[0;34m(\u001b[0m\u001b[0m_pool\u001b[0m\u001b[0;34m,\u001b[0m \u001b[0murl\u001b[0m\u001b[0;34m,\u001b[0m \u001b[0merror\u001b[0m \u001b[0;32mor\u001b[0m \u001b[0mResponseError\u001b[0m\u001b[0;34m(\u001b[0m\u001b[0mcause\u001b[0m\u001b[0;34m)\u001b[0m\u001b[0;34m)\u001b[0m\u001b[0;34m\u001b[0m\u001b[0;34m\u001b[0m\u001b[0m\n\u001b[0m\u001b[1;32m    575\u001b[0m \u001b[0;34m\u001b[0m\u001b[0m\n",
      "\u001b[0;31mMaxRetryError\u001b[0m: HTTPSConnectionPool(host='api.quantum-computing.ibm.com', port=443): Max retries exceeded with url: /api/Network/ibm-q/Groups/open/Projects/main/Jobs/63cc8217fbd2a7521f8c044c/status/v/1 (Caused by NewConnectionError('<urllib3.connection.HTTPSConnection object at 0x7f91200d60d0>: Failed to establish a new connection: [Errno 8] nodename nor servname provided, or not known'))",
      "\nDuring handling of the above exception, another exception occurred:\n",
      "\u001b[0;31mConnectionError\u001b[0m                           Traceback (most recent call last)",
      "\u001b[0;32m~/opt/anaconda3/envs/Qiskit/lib/python3.8/site-packages/qiskit/providers/ibmq/api/session.py\u001b[0m in \u001b[0;36mrequest\u001b[0;34m(self, method, url, bare, **kwargs)\u001b[0m\n\u001b[1;32m    276\u001b[0m             \u001b[0mself\u001b[0m\u001b[0;34m.\u001b[0m\u001b[0m_log_request_info\u001b[0m\u001b[0;34m(\u001b[0m\u001b[0murl\u001b[0m\u001b[0;34m,\u001b[0m \u001b[0mmethod\u001b[0m\u001b[0;34m,\u001b[0m \u001b[0mkwargs\u001b[0m\u001b[0;34m)\u001b[0m\u001b[0;34m\u001b[0m\u001b[0;34m\u001b[0m\u001b[0m\n\u001b[0;32m--> 277\u001b[0;31m             \u001b[0mresponse\u001b[0m \u001b[0;34m=\u001b[0m \u001b[0msuper\u001b[0m\u001b[0;34m(\u001b[0m\u001b[0;34m)\u001b[0m\u001b[0;34m.\u001b[0m\u001b[0mrequest\u001b[0m\u001b[0;34m(\u001b[0m\u001b[0mmethod\u001b[0m\u001b[0;34m,\u001b[0m \u001b[0mfinal_url\u001b[0m\u001b[0;34m,\u001b[0m \u001b[0mheaders\u001b[0m\u001b[0;34m=\u001b[0m\u001b[0mheaders\u001b[0m\u001b[0;34m,\u001b[0m \u001b[0;34m**\u001b[0m\u001b[0mkwargs\u001b[0m\u001b[0;34m)\u001b[0m\u001b[0;34m\u001b[0m\u001b[0;34m\u001b[0m\u001b[0m\n\u001b[0m\u001b[1;32m    278\u001b[0m             \u001b[0mresponse\u001b[0m\u001b[0;34m.\u001b[0m\u001b[0mraise_for_status\u001b[0m\u001b[0;34m(\u001b[0m\u001b[0;34m)\u001b[0m\u001b[0;34m\u001b[0m\u001b[0;34m\u001b[0m\u001b[0m\n",
      "\u001b[0;32m~/opt/anaconda3/envs/Qiskit/lib/python3.8/site-packages/requests/sessions.py\u001b[0m in \u001b[0;36mrequest\u001b[0;34m(self, method, url, params, data, headers, cookies, files, auth, timeout, allow_redirects, proxies, hooks, stream, verify, cert, json)\u001b[0m\n\u001b[1;32m    541\u001b[0m         \u001b[0msend_kwargs\u001b[0m\u001b[0;34m.\u001b[0m\u001b[0mupdate\u001b[0m\u001b[0;34m(\u001b[0m\u001b[0msettings\u001b[0m\u001b[0;34m)\u001b[0m\u001b[0;34m\u001b[0m\u001b[0;34m\u001b[0m\u001b[0m\n\u001b[0;32m--> 542\u001b[0;31m         \u001b[0mresp\u001b[0m \u001b[0;34m=\u001b[0m \u001b[0mself\u001b[0m\u001b[0;34m.\u001b[0m\u001b[0msend\u001b[0m\u001b[0;34m(\u001b[0m\u001b[0mprep\u001b[0m\u001b[0;34m,\u001b[0m \u001b[0;34m**\u001b[0m\u001b[0msend_kwargs\u001b[0m\u001b[0;34m)\u001b[0m\u001b[0;34m\u001b[0m\u001b[0;34m\u001b[0m\u001b[0m\n\u001b[0m\u001b[1;32m    543\u001b[0m \u001b[0;34m\u001b[0m\u001b[0m\n",
      "\u001b[0;32m~/opt/anaconda3/envs/Qiskit/lib/python3.8/site-packages/requests/sessions.py\u001b[0m in \u001b[0;36msend\u001b[0;34m(self, request, **kwargs)\u001b[0m\n\u001b[1;32m    654\u001b[0m         \u001b[0;31m# Send the request\u001b[0m\u001b[0;34m\u001b[0m\u001b[0;34m\u001b[0m\u001b[0;34m\u001b[0m\u001b[0m\n\u001b[0;32m--> 655\u001b[0;31m         \u001b[0mr\u001b[0m \u001b[0;34m=\u001b[0m \u001b[0madapter\u001b[0m\u001b[0;34m.\u001b[0m\u001b[0msend\u001b[0m\u001b[0;34m(\u001b[0m\u001b[0mrequest\u001b[0m\u001b[0;34m,\u001b[0m \u001b[0;34m**\u001b[0m\u001b[0mkwargs\u001b[0m\u001b[0;34m)\u001b[0m\u001b[0;34m\u001b[0m\u001b[0;34m\u001b[0m\u001b[0m\n\u001b[0m\u001b[1;32m    656\u001b[0m \u001b[0;34m\u001b[0m\u001b[0m\n",
      "\u001b[0;32m~/opt/anaconda3/envs/Qiskit/lib/python3.8/site-packages/requests/adapters.py\u001b[0m in \u001b[0;36msend\u001b[0;34m(self, request, stream, timeout, verify, cert, proxies)\u001b[0m\n\u001b[1;32m    515\u001b[0m \u001b[0;34m\u001b[0m\u001b[0m\n\u001b[0;32m--> 516\u001b[0;31m             \u001b[0;32mraise\u001b[0m \u001b[0mConnectionError\u001b[0m\u001b[0;34m(\u001b[0m\u001b[0me\u001b[0m\u001b[0;34m,\u001b[0m \u001b[0mrequest\u001b[0m\u001b[0;34m=\u001b[0m\u001b[0mrequest\u001b[0m\u001b[0;34m)\u001b[0m\u001b[0;34m\u001b[0m\u001b[0;34m\u001b[0m\u001b[0m\n\u001b[0m\u001b[1;32m    517\u001b[0m \u001b[0;34m\u001b[0m\u001b[0m\n",
      "\u001b[0;31mConnectionError\u001b[0m: HTTPSConnectionPool(host='api.quantum-computing.ibm.com', port=443): Max retries exceeded with url: /api/Network/ibm-q/Groups/open/Projects/main/Jobs/63cc8217fbd2a7521f8c044c/status/v/1 (Caused by NewConnectionError('<urllib3.connection.HTTPSConnection object at 0x7f91200d60d0>: Failed to establish a new connection: [Errno 8] nodename nor servname provided, or not known'))",
      "\nThe above exception was the direct cause of the following exception:\n",
      "\u001b[0;31mRequestsApiError\u001b[0m                          Traceback (most recent call last)",
      "\u001b[0;32m~/opt/anaconda3/envs/Qiskit/lib/python3.8/site-packages/qiskit/providers/ibmq/job/utils.py\u001b[0m in \u001b[0;36mapi_to_job_error\u001b[0;34m()\u001b[0m\n\u001b[1;32m     56\u001b[0m     \u001b[0;32mtry\u001b[0m\u001b[0;34m:\u001b[0m\u001b[0;34m\u001b[0m\u001b[0;34m\u001b[0m\u001b[0m\n\u001b[0;32m---> 57\u001b[0;31m         \u001b[0;32myield\u001b[0m\u001b[0;34m\u001b[0m\u001b[0;34m\u001b[0m\u001b[0m\n\u001b[0m\u001b[1;32m     58\u001b[0m     \u001b[0;32mexcept\u001b[0m \u001b[0mApiError\u001b[0m \u001b[0;32mas\u001b[0m \u001b[0mapi_err\u001b[0m\u001b[0;34m:\u001b[0m\u001b[0;34m\u001b[0m\u001b[0;34m\u001b[0m\u001b[0m\n",
      "\u001b[0;32m~/opt/anaconda3/envs/Qiskit/lib/python3.8/site-packages/qiskit/providers/ibmq/job/ibmqjob.py\u001b[0m in \u001b[0;36mstatus\u001b[0;34m(self)\u001b[0m\n\u001b[1;32m    501\u001b[0m         \u001b[0;32mwith\u001b[0m \u001b[0mapi_to_job_error\u001b[0m\u001b[0;34m(\u001b[0m\u001b[0;34m)\u001b[0m\u001b[0;34m:\u001b[0m\u001b[0;34m\u001b[0m\u001b[0;34m\u001b[0m\u001b[0m\n\u001b[0;32m--> 502\u001b[0;31m             \u001b[0mapi_response\u001b[0m \u001b[0;34m=\u001b[0m \u001b[0mself\u001b[0m\u001b[0;34m.\u001b[0m\u001b[0m_api_client\u001b[0m\u001b[0;34m.\u001b[0m\u001b[0mjob_status\u001b[0m\u001b[0;34m(\u001b[0m\u001b[0mself\u001b[0m\u001b[0;34m.\u001b[0m\u001b[0mjob_id\u001b[0m\u001b[0;34m(\u001b[0m\u001b[0;34m)\u001b[0m\u001b[0;34m)\u001b[0m\u001b[0;34m\u001b[0m\u001b[0;34m\u001b[0m\u001b[0m\n\u001b[0m\u001b[1;32m    503\u001b[0m             \u001b[0mself\u001b[0m\u001b[0;34m.\u001b[0m\u001b[0m_api_status\u001b[0m \u001b[0;34m=\u001b[0m \u001b[0mapi_response\u001b[0m\u001b[0;34m[\u001b[0m\u001b[0;34m'status'\u001b[0m\u001b[0;34m]\u001b[0m\u001b[0;34m\u001b[0m\u001b[0;34m\u001b[0m\u001b[0m\n",
      "\u001b[0;32m~/opt/anaconda3/envs/Qiskit/lib/python3.8/site-packages/qiskit/providers/ibmq/api/clients/account.py\u001b[0m in \u001b[0;36mjob_status\u001b[0;34m(self, job_id)\u001b[0m\n\u001b[1;32m    338\u001b[0m         \"\"\"\n\u001b[0;32m--> 339\u001b[0;31m         \u001b[0;32mreturn\u001b[0m \u001b[0mself\u001b[0m\u001b[0;34m.\u001b[0m\u001b[0maccount_api\u001b[0m\u001b[0;34m.\u001b[0m\u001b[0mjob\u001b[0m\u001b[0;34m(\u001b[0m\u001b[0mjob_id\u001b[0m\u001b[0;34m)\u001b[0m\u001b[0;34m.\u001b[0m\u001b[0mstatus\u001b[0m\u001b[0;34m(\u001b[0m\u001b[0;34m)\u001b[0m\u001b[0;34m\u001b[0m\u001b[0;34m\u001b[0m\u001b[0m\n\u001b[0m\u001b[1;32m    340\u001b[0m \u001b[0;34m\u001b[0m\u001b[0m\n",
      "\u001b[0;32m~/opt/anaconda3/envs/Qiskit/lib/python3.8/site-packages/qiskit/providers/ibmq/api/rest/job.py\u001b[0m in \u001b[0;36mstatus\u001b[0;34m(self)\u001b[0m\n\u001b[1;32m    159\u001b[0m         \u001b[0murl\u001b[0m \u001b[0;34m=\u001b[0m \u001b[0mself\u001b[0m\u001b[0;34m.\u001b[0m\u001b[0mget_url\u001b[0m\u001b[0;34m(\u001b[0m\u001b[0;34m'status'\u001b[0m\u001b[0;34m)\u001b[0m\u001b[0;34m\u001b[0m\u001b[0;34m\u001b[0m\u001b[0m\n\u001b[0;32m--> 160\u001b[0;31m         \u001b[0mraw_response\u001b[0m \u001b[0;34m=\u001b[0m \u001b[0mself\u001b[0m\u001b[0;34m.\u001b[0m\u001b[0msession\u001b[0m\u001b[0;34m.\u001b[0m\u001b[0mget\u001b[0m\u001b[0;34m(\u001b[0m\u001b[0murl\u001b[0m\u001b[0;34m)\u001b[0m\u001b[0;34m\u001b[0m\u001b[0;34m\u001b[0m\u001b[0m\n\u001b[0m\u001b[1;32m    161\u001b[0m         \u001b[0;32mtry\u001b[0m\u001b[0;34m:\u001b[0m\u001b[0;34m\u001b[0m\u001b[0;34m\u001b[0m\u001b[0m\n",
      "\u001b[0;32m~/opt/anaconda3/envs/Qiskit/lib/python3.8/site-packages/requests/sessions.py\u001b[0m in \u001b[0;36mget\u001b[0;34m(self, url, **kwargs)\u001b[0m\n\u001b[1;32m    554\u001b[0m         \u001b[0mkwargs\u001b[0m\u001b[0;34m.\u001b[0m\u001b[0msetdefault\u001b[0m\u001b[0;34m(\u001b[0m\u001b[0;34m'allow_redirects'\u001b[0m\u001b[0;34m,\u001b[0m \u001b[0;32mTrue\u001b[0m\u001b[0;34m)\u001b[0m\u001b[0;34m\u001b[0m\u001b[0;34m\u001b[0m\u001b[0m\n\u001b[0;32m--> 555\u001b[0;31m         \u001b[0;32mreturn\u001b[0m \u001b[0mself\u001b[0m\u001b[0;34m.\u001b[0m\u001b[0mrequest\u001b[0m\u001b[0;34m(\u001b[0m\u001b[0;34m'GET'\u001b[0m\u001b[0;34m,\u001b[0m \u001b[0murl\u001b[0m\u001b[0;34m,\u001b[0m \u001b[0;34m**\u001b[0m\u001b[0mkwargs\u001b[0m\u001b[0;34m)\u001b[0m\u001b[0;34m\u001b[0m\u001b[0;34m\u001b[0m\u001b[0m\n\u001b[0m\u001b[1;32m    556\u001b[0m \u001b[0;34m\u001b[0m\u001b[0m\n",
      "\u001b[0;32m~/opt/anaconda3/envs/Qiskit/lib/python3.8/site-packages/qiskit/providers/ibmq/api/session.py\u001b[0m in \u001b[0;36mrequest\u001b[0;34m(self, method, url, bare, **kwargs)\u001b[0m\n\u001b[1;32m    299\u001b[0m \u001b[0;34m\u001b[0m\u001b[0m\n\u001b[0;32m--> 300\u001b[0;31m             \u001b[0;32mraise\u001b[0m \u001b[0mRequestsApiError\u001b[0m\u001b[0;34m(\u001b[0m\u001b[0mmessage\u001b[0m\u001b[0;34m,\u001b[0m \u001b[0mstatus_code\u001b[0m\u001b[0;34m)\u001b[0m \u001b[0;32mfrom\u001b[0m \u001b[0mex\u001b[0m\u001b[0;34m\u001b[0m\u001b[0;34m\u001b[0m\u001b[0m\n\u001b[0m\u001b[1;32m    301\u001b[0m \u001b[0;34m\u001b[0m\u001b[0m\n",
      "\u001b[0;31mRequestsApiError\u001b[0m: \"HTTPSConnectionPool(host='api.quantum-computing.ibm.com', port=443): Max retries exceeded with url: /api/Network/ibm-q/Groups/open/Projects/main/Jobs/63cc8217fbd2a7521f8c044c/status/v/1 (Caused by NewConnectionError('<urllib3.connection.HTTPSConnection object at 0x7f91200d60d0>: Failed to establish a new connection: [Errno 8] nodename nor servname provided, or not known'))\"",
      "\nThe above exception was the direct cause of the following exception:\n",
      "\u001b[0;31mIBMQJobApiError\u001b[0m                           Traceback (most recent call last)",
      "\u001b[0;32m<ipython-input-29-4ed852e9ba14>\u001b[0m in \u001b[0;36m<module>\u001b[0;34m\u001b[0m\n\u001b[0;32m----> 1\u001b[0;31m \u001b[0mYavg_ar\u001b[0m\u001b[0;34m,\u001b[0m \u001b[0mXavg_ar\u001b[0m \u001b[0;34m=\u001b[0m \u001b[0mmany_exp_point\u001b[0m\u001b[0;34m(\u001b[0m\u001b[0mbackend\u001b[0m\u001b[0;34m,\u001b[0m \u001b[0mbest_qubits\u001b[0m\u001b[0;34m,\u001b[0m \u001b[0mshots_num\u001b[0m\u001b[0;34m,\u001b[0m \u001b[0mjob_manager\u001b[0m\u001b[0;34m,\u001b[0m \u001b[0mbeta_ar\u001b[0m\u001b[0;34m,\u001b[0m \u001b[0ma\u001b[0m\u001b[0;34m,\u001b[0m \u001b[0mb\u001b[0m\u001b[0;34m,\u001b[0m \u001b[0mmeas_filter\u001b[0m\u001b[0;34m)\u001b[0m\u001b[0;34m\u001b[0m\u001b[0;34m\u001b[0m\u001b[0m\n\u001b[0m",
      "\u001b[0;32m<ipython-input-8-aed151569090>\u001b[0m in \u001b[0;36mmany_exp_point\u001b[0;34m(backend, best_qubits, shots_num, job_manager, beta_ar, a, b, meas_filter)\u001b[0m\n\u001b[1;32m     14\u001b[0m \u001b[0;34m\u001b[0m\u001b[0m\n\u001b[1;32m     15\u001b[0m     \u001b[0;32mfor\u001b[0m \u001b[0mbeta\u001b[0m \u001b[0;32min\u001b[0m \u001b[0mbeta_ar\u001b[0m\u001b[0;34m:\u001b[0m\u001b[0;34m\u001b[0m\u001b[0;34m\u001b[0m\u001b[0m\n\u001b[0;32m---> 16\u001b[0;31m         \u001b[0mYavg\u001b[0m\u001b[0;34m,\u001b[0m \u001b[0mXavg\u001b[0m \u001b[0;34m=\u001b[0m \u001b[0mone_exp_point\u001b[0m\u001b[0;34m(\u001b[0m\u001b[0mbackend\u001b[0m\u001b[0;34m,\u001b[0m \u001b[0mbest_qubits\u001b[0m\u001b[0;34m,\u001b[0m \u001b[0mshots_num\u001b[0m\u001b[0;34m,\u001b[0m \u001b[0mjob_manager\u001b[0m\u001b[0;34m,\u001b[0m \u001b[0mbeta\u001b[0m\u001b[0;34m,\u001b[0m \u001b[0ma\u001b[0m\u001b[0;34m,\u001b[0m \u001b[0mb\u001b[0m\u001b[0;34m,\u001b[0m \u001b[0mmeas_filter\u001b[0m\u001b[0;34m)\u001b[0m\u001b[0;34m\u001b[0m\u001b[0;34m\u001b[0m\u001b[0m\n\u001b[0m\u001b[1;32m     17\u001b[0m         \u001b[0mYavg_ar\u001b[0m\u001b[0;34m.\u001b[0m\u001b[0mappend\u001b[0m\u001b[0;34m(\u001b[0m\u001b[0mYavg\u001b[0m\u001b[0;34m)\u001b[0m\u001b[0;34m\u001b[0m\u001b[0;34m\u001b[0m\u001b[0m\n\u001b[1;32m     18\u001b[0m         \u001b[0mXavg_ar\u001b[0m\u001b[0;34m.\u001b[0m\u001b[0mappend\u001b[0m\u001b[0;34m(\u001b[0m\u001b[0mXavg\u001b[0m\u001b[0;34m)\u001b[0m\u001b[0;34m\u001b[0m\u001b[0;34m\u001b[0m\u001b[0m\n",
      "\u001b[0;32m<ipython-input-8-aed151569090>\u001b[0m in \u001b[0;36mone_exp_point\u001b[0;34m(backend, best_qubits, shots_num, job_manager, beta, a, b, meas_filter)\u001b[0m\n\u001b[1;32m      3\u001b[0m     \"\"\"\n\u001b[1;32m      4\u001b[0m     \u001b[0mqc_list\u001b[0m \u001b[0;34m=\u001b[0m \u001b[0mgenerate_circuit_list\u001b[0m\u001b[0;34m(\u001b[0m\u001b[0mbeta\u001b[0m\u001b[0;34m,\u001b[0m \u001b[0ma\u001b[0m\u001b[0;34m,\u001b[0m \u001b[0mb\u001b[0m\u001b[0;34m)\u001b[0m\u001b[0;34m\u001b[0m\u001b[0;34m\u001b[0m\u001b[0m\n\u001b[0;32m----> 5\u001b[0;31m     \u001b[0mcounts_list\u001b[0m \u001b[0;34m=\u001b[0m \u001b[0mrun_circuit\u001b[0m\u001b[0;34m(\u001b[0m\u001b[0mqc_list\u001b[0m\u001b[0;34m,\u001b[0m \u001b[0mbackend\u001b[0m\u001b[0;34m,\u001b[0m \u001b[0mbest_qubits\u001b[0m\u001b[0;34m,\u001b[0m \u001b[0mshots_num\u001b[0m\u001b[0;34m,\u001b[0m \u001b[0mjob_manager\u001b[0m\u001b[0;34m,\u001b[0m \u001b[0mmeas_filter\u001b[0m\u001b[0;34m)\u001b[0m\u001b[0;34m\u001b[0m\u001b[0;34m\u001b[0m\u001b[0m\n\u001b[0m\u001b[1;32m      6\u001b[0m     \u001b[0mYavg\u001b[0m\u001b[0;34m,\u001b[0m \u001b[0mXavg\u001b[0m \u001b[0;34m=\u001b[0m \u001b[0mpost_process_results\u001b[0m\u001b[0;34m(\u001b[0m\u001b[0mcounts_list\u001b[0m\u001b[0;34m,\u001b[0m \u001b[0mbeta\u001b[0m\u001b[0;34m,\u001b[0m \u001b[0ma\u001b[0m\u001b[0;34m,\u001b[0m \u001b[0mb\u001b[0m\u001b[0;34m)\u001b[0m\u001b[0;34m\u001b[0m\u001b[0;34m\u001b[0m\u001b[0m\n\u001b[1;32m      7\u001b[0m     \u001b[0;32mreturn\u001b[0m \u001b[0mYavg\u001b[0m\u001b[0;34m,\u001b[0m \u001b[0mXavg\u001b[0m\u001b[0;34m\u001b[0m\u001b[0;34m\u001b[0m\u001b[0m\n",
      "\u001b[0;32m<ipython-input-5-ec9ed4184295>\u001b[0m in \u001b[0;36mrun_circuit\u001b[0;34m(qc_list, backend, best_qubits, shots_num, job_manager, meas_filter)\u001b[0m\n\u001b[1;32m     66\u001b[0m     \u001b[0mjob_exp\u001b[0m \u001b[0;34m=\u001b[0m \u001b[0mjob_manager\u001b[0m\u001b[0;34m.\u001b[0m\u001b[0mrun\u001b[0m\u001b[0;34m(\u001b[0m\u001b[0mqc_trans\u001b[0m\u001b[0;34m,\u001b[0m \u001b[0mbackend\u001b[0m\u001b[0;34m=\u001b[0m\u001b[0mbackend\u001b[0m\u001b[0;34m,\u001b[0m \u001b[0mshots\u001b[0m\u001b[0;34m=\u001b[0m\u001b[0mshots_num\u001b[0m\u001b[0;34m,\u001b[0m \u001b[0mname\u001b[0m\u001b[0;34m=\u001b[0m\u001b[0;34m'SPTexp_SOPCOP'\u001b[0m\u001b[0;34m)\u001b[0m\u001b[0;34m\u001b[0m\u001b[0;34m\u001b[0m\u001b[0m\n\u001b[1;32m     67\u001b[0m     \u001b[0;32mfor\u001b[0m \u001b[0mi\u001b[0m \u001b[0;32min\u001b[0m \u001b[0mrange\u001b[0m\u001b[0;34m(\u001b[0m\u001b[0mlen\u001b[0m\u001b[0;34m(\u001b[0m\u001b[0mjob_exp\u001b[0m\u001b[0;34m.\u001b[0m\u001b[0mjobs\u001b[0m\u001b[0;34m(\u001b[0m\u001b[0;34m)\u001b[0m\u001b[0;34m)\u001b[0m\u001b[0;34m)\u001b[0m\u001b[0;34m:\u001b[0m\u001b[0;34m\u001b[0m\u001b[0;34m\u001b[0m\u001b[0m\n\u001b[0;32m---> 68\u001b[0;31m         \u001b[0mjob_monitor\u001b[0m\u001b[0;34m(\u001b[0m\u001b[0mjob_exp\u001b[0m\u001b[0;34m.\u001b[0m\u001b[0mjobs\u001b[0m\u001b[0;34m(\u001b[0m\u001b[0;34m)\u001b[0m\u001b[0;34m[\u001b[0m\u001b[0mi\u001b[0m\u001b[0;34m]\u001b[0m\u001b[0;34m)\u001b[0m\u001b[0;34m\u001b[0m\u001b[0;34m\u001b[0m\u001b[0m\n\u001b[0m\u001b[1;32m     69\u001b[0m     \u001b[0mprint\u001b[0m\u001b[0;34m(\u001b[0m\u001b[0;34m'All jobs have finished.'\u001b[0m\u001b[0;34m)\u001b[0m\u001b[0;34m\u001b[0m\u001b[0;34m\u001b[0m\u001b[0m\n\u001b[1;32m     70\u001b[0m     \u001b[0mresults\u001b[0m \u001b[0;34m=\u001b[0m \u001b[0mjob_exp\u001b[0m\u001b[0;34m.\u001b[0m\u001b[0mresults\u001b[0m\u001b[0;34m(\u001b[0m\u001b[0;34m)\u001b[0m\u001b[0;34m\u001b[0m\u001b[0;34m\u001b[0m\u001b[0m\n",
      "\u001b[0;32m~/opt/anaconda3/envs/Qiskit/lib/python3.8/site-packages/qiskit/tools/monitor/job_monitor.py\u001b[0m in \u001b[0;36mjob_monitor\u001b[0;34m(job, interval, quiet, output)\u001b[0m\n\u001b[1;32m     81\u001b[0m         \u001b[0m_interval_set\u001b[0m \u001b[0;34m=\u001b[0m \u001b[0;32mTrue\u001b[0m\u001b[0;34m\u001b[0m\u001b[0;34m\u001b[0m\u001b[0m\n\u001b[1;32m     82\u001b[0m \u001b[0;34m\u001b[0m\u001b[0m\n\u001b[0;32m---> 83\u001b[0;31m     _text_checker(job, interval, _interval_set,\n\u001b[0m\u001b[1;32m     84\u001b[0m                   quiet=quiet, output=output)\n",
      "\u001b[0;32m~/opt/anaconda3/envs/Qiskit/lib/python3.8/site-packages/qiskit/tools/monitor/job_monitor.py\u001b[0m in \u001b[0;36m_text_checker\u001b[0;34m(job, interval, _interval_set, quiet, output)\u001b[0m\n\u001b[1;32m     39\u001b[0m     \u001b[0;32mwhile\u001b[0m \u001b[0mstatus\u001b[0m\u001b[0;34m.\u001b[0m\u001b[0mname\u001b[0m \u001b[0;32mnot\u001b[0m \u001b[0;32min\u001b[0m \u001b[0;34m[\u001b[0m\u001b[0;34m'DONE'\u001b[0m\u001b[0;34m,\u001b[0m \u001b[0;34m'CANCELLED'\u001b[0m\u001b[0;34m,\u001b[0m \u001b[0;34m'ERROR'\u001b[0m\u001b[0;34m]\u001b[0m\u001b[0;34m:\u001b[0m\u001b[0;34m\u001b[0m\u001b[0;34m\u001b[0m\u001b[0m\n\u001b[1;32m     40\u001b[0m         \u001b[0mtime\u001b[0m\u001b[0;34m.\u001b[0m\u001b[0msleep\u001b[0m\u001b[0;34m(\u001b[0m\u001b[0minterval\u001b[0m\u001b[0;34m)\u001b[0m\u001b[0;34m\u001b[0m\u001b[0;34m\u001b[0m\u001b[0m\n\u001b[0;32m---> 41\u001b[0;31m         \u001b[0mstatus\u001b[0m \u001b[0;34m=\u001b[0m \u001b[0mjob\u001b[0m\u001b[0;34m.\u001b[0m\u001b[0mstatus\u001b[0m\u001b[0;34m(\u001b[0m\u001b[0;34m)\u001b[0m\u001b[0;34m\u001b[0m\u001b[0;34m\u001b[0m\u001b[0m\n\u001b[0m\u001b[1;32m     42\u001b[0m         \u001b[0mmsg\u001b[0m \u001b[0;34m=\u001b[0m \u001b[0mstatus\u001b[0m\u001b[0;34m.\u001b[0m\u001b[0mvalue\u001b[0m\u001b[0;34m\u001b[0m\u001b[0;34m\u001b[0m\u001b[0m\n\u001b[1;32m     43\u001b[0m \u001b[0;34m\u001b[0m\u001b[0m\n",
      "\u001b[0;32m~/opt/anaconda3/envs/Qiskit/lib/python3.8/site-packages/qiskit/providers/ibmq/job/ibmqjob.py\u001b[0m in \u001b[0;36mstatus\u001b[0;34m(self)\u001b[0m\n\u001b[1;32m    502\u001b[0m             \u001b[0mapi_response\u001b[0m \u001b[0;34m=\u001b[0m \u001b[0mself\u001b[0m\u001b[0;34m.\u001b[0m\u001b[0m_api_client\u001b[0m\u001b[0;34m.\u001b[0m\u001b[0mjob_status\u001b[0m\u001b[0;34m(\u001b[0m\u001b[0mself\u001b[0m\u001b[0;34m.\u001b[0m\u001b[0mjob_id\u001b[0m\u001b[0;34m(\u001b[0m\u001b[0;34m)\u001b[0m\u001b[0;34m)\u001b[0m\u001b[0;34m\u001b[0m\u001b[0;34m\u001b[0m\u001b[0m\n\u001b[1;32m    503\u001b[0m             \u001b[0mself\u001b[0m\u001b[0;34m.\u001b[0m\u001b[0m_api_status\u001b[0m \u001b[0;34m=\u001b[0m \u001b[0mapi_response\u001b[0m\u001b[0;34m[\u001b[0m\u001b[0;34m'status'\u001b[0m\u001b[0;34m]\u001b[0m\u001b[0;34m\u001b[0m\u001b[0;34m\u001b[0m\u001b[0m\n\u001b[0;32m--> 504\u001b[0;31m             self._status, self._queue_info = self._get_status_position(\n\u001b[0m\u001b[1;32m    505\u001b[0m                 self._api_status, api_response.get('info_queue', None))\n\u001b[1;32m    506\u001b[0m \u001b[0;34m\u001b[0m\u001b[0m\n",
      "\u001b[0;32m~/opt/anaconda3/envs/Qiskit/lib/python3.8/contextlib.py\u001b[0m in \u001b[0;36m__exit__\u001b[0;34m(self, type, value, traceback)\u001b[0m\n\u001b[1;32m    129\u001b[0m                 \u001b[0mvalue\u001b[0m \u001b[0;34m=\u001b[0m \u001b[0mtype\u001b[0m\u001b[0;34m(\u001b[0m\u001b[0;34m)\u001b[0m\u001b[0;34m\u001b[0m\u001b[0;34m\u001b[0m\u001b[0m\n\u001b[1;32m    130\u001b[0m             \u001b[0;32mtry\u001b[0m\u001b[0;34m:\u001b[0m\u001b[0;34m\u001b[0m\u001b[0;34m\u001b[0m\u001b[0m\n\u001b[0;32m--> 131\u001b[0;31m                 \u001b[0mself\u001b[0m\u001b[0;34m.\u001b[0m\u001b[0mgen\u001b[0m\u001b[0;34m.\u001b[0m\u001b[0mthrow\u001b[0m\u001b[0;34m(\u001b[0m\u001b[0mtype\u001b[0m\u001b[0;34m,\u001b[0m \u001b[0mvalue\u001b[0m\u001b[0;34m,\u001b[0m \u001b[0mtraceback\u001b[0m\u001b[0;34m)\u001b[0m\u001b[0;34m\u001b[0m\u001b[0;34m\u001b[0m\u001b[0m\n\u001b[0m\u001b[1;32m    132\u001b[0m             \u001b[0;32mexcept\u001b[0m \u001b[0mStopIteration\u001b[0m \u001b[0;32mas\u001b[0m \u001b[0mexc\u001b[0m\u001b[0;34m:\u001b[0m\u001b[0;34m\u001b[0m\u001b[0;34m\u001b[0m\u001b[0m\n\u001b[1;32m    133\u001b[0m                 \u001b[0;31m# Suppress StopIteration *unless* it's the same exception that\u001b[0m\u001b[0;34m\u001b[0m\u001b[0;34m\u001b[0m\u001b[0;34m\u001b[0m\u001b[0m\n",
      "\u001b[0;32m~/opt/anaconda3/envs/Qiskit/lib/python3.8/site-packages/qiskit/providers/ibmq/job/utils.py\u001b[0m in \u001b[0;36mapi_to_job_error\u001b[0;34m()\u001b[0m\n\u001b[1;32m     57\u001b[0m         \u001b[0;32myield\u001b[0m\u001b[0;34m\u001b[0m\u001b[0;34m\u001b[0m\u001b[0m\n\u001b[1;32m     58\u001b[0m     \u001b[0;32mexcept\u001b[0m \u001b[0mApiError\u001b[0m \u001b[0;32mas\u001b[0m \u001b[0mapi_err\u001b[0m\u001b[0;34m:\u001b[0m\u001b[0;34m\u001b[0m\u001b[0;34m\u001b[0m\u001b[0m\n\u001b[0;32m---> 59\u001b[0;31m         \u001b[0;32mraise\u001b[0m \u001b[0mIBMQJobApiError\u001b[0m\u001b[0;34m(\u001b[0m\u001b[0mstr\u001b[0m\u001b[0;34m(\u001b[0m\u001b[0mapi_err\u001b[0m\u001b[0;34m)\u001b[0m\u001b[0;34m)\u001b[0m \u001b[0;32mfrom\u001b[0m \u001b[0mapi_err\u001b[0m\u001b[0;34m\u001b[0m\u001b[0;34m\u001b[0m\u001b[0m\n\u001b[0m",
      "\u001b[0;31mIBMQJobApiError\u001b[0m: '\"HTTPSConnectionPool(host=\\'api.quantum-computing.ibm.com\\', port=443): Max retries exceeded with url: /api/Network/ibm-q/Groups/open/Projects/main/Jobs/63cc8217fbd2a7521f8c044c/status/v/1 (Caused by NewConnectionError(\\'<urllib3.connection.HTTPSConnection object at 0x7f91200d60d0>: Failed to establish a new connection: [Errno 8] nodename nor servname provided, or not known\\'))\"'"
     ]
    }
   ],
   "source": [
    "Yavg_ar, Xavg_ar = many_exp_point(backend, best_qubits, shots_num, job_manager, beta_ar, a, b, meas_filter)"
   ]
  },
  {
   "cell_type": "code",
   "execution_count": 21,
   "id": "199cf5b1",
   "metadata": {},
   "outputs": [
    {
     "data": {
      "image/png": "[encoded data removed]",
      "text/plain": [
       "<Figure size 432x288 with 1 Axes>"
      ]
     },
     "metadata": {
      "needs_background": "light"
     },
     "output_type": "display_data"
    }
   ],
   "source": [
    "plt.plot(beta_ar, Xavg_ar, \"bo\", label = \"Xavg\")\n",
    "plt.plot(np.linspace(0, np.pi/3, 100), np.cos(np.linspace(0, np.pi/3, 100)), \"r-\", label = \"cos(beta)\")\n",
    "plt.title(\"Xavg vs. beta\")\n",
    "plt.xlabel(\"beta\")\n",
    "plt.legend()\n",
    "#plt.savefig(\"\")\n",
    "plt.show()"
   ]
  },
  {
   "cell_type": "code",
   "execution_count": 22,
   "id": "e6625fa0",
   "metadata": {},
   "outputs": [
    {
     "data": {
      "image/png": "[encoded data removed]",
      "text/plain": [
       "<Figure size 432x288 with 1 Axes>"
      ]
     },
     "metadata": {
      "needs_background": "light"
     },
     "output_type": "display_data"
    }
   ],
   "source": [
    "plt.plot(beta_ar, Yavg_ar, \"bo\", label = \"Yavg\")\n",
    "plt.plot(np.linspace(0, np.pi/3, 100), 1*np.sin(np.linspace(0, np.pi/3, 100)), \"r-\", label = \"SOP(=1)*sin(beta)\")\n",
    "# Modify this to be SOP * np.sin()... depending on what the SOP is\n",
    "plt.title(\"Yavg vs. beta\")\n",
    "plt.xlabel(\"beta\")\n",
    "plt.legend()\n",
    "#plt.savefig(\"\")\n",
    "plt.show()"
   ]
  },
  {
   "cell_type": "code",
   "execution_count": 23,
   "id": "56a54bdc",
   "metadata": {},
   "outputs": [
    {
     "data": {
      "image/png": "[encoded data removed]",
      "text/plain": [
       "<Figure size 432x288 with 1 Axes>"
      ]
     },
     "metadata": {
      "needs_background": "light"
     },
     "output_type": "display_data"
    }
   ],
   "source": [
    "plt.plot(np.tan(beta_ar), Yavg_ar/Xavg_ar, \"bo\", label = \"COP measurement\")\n",
    "plt.plot(np.linspace(0, 1.75, 100), 1*np.linspace(0, 1.75, 100), \"r-\", label = \"line with SOP slope (= 1)\")\n",
    "# Modify slope to be SOP depending on what it is (1 for the cluster state).\n",
    "plt.title(r\"<Y>/<X> vs. tan(beta) for $\\alpha = 0$\")\n",
    "plt.ylabel(\"<Y>/<X>\")\n",
    "plt.xlabel(\"tan(beta)\")\n",
    "plt.legend()\n",
    "#plt.savefig(\"\")\n",
    "plt.show()"
   ]
  },
  {
   "cell_type": "code",
   "execution_count": null,
   "id": "e2dca7d2",
   "metadata": {},
   "outputs": [],
   "source": []
  }
 ],
 "metadata": {
  "kernelspec": {
   "display_name": "Python 3.8.10 ('Qiskit')",
   "language": "python",
   "name": "python3"
  },
  "language_info": {
   "codemirror_mode": {
    "name": "ipython",
    "version": 3
   },
   "file_extension": ".py",
   "mimetype": "text/x-python",
   "name": "python",
   "nbconvert_exporter": "python",
   "pygments_lexer": "ipython3",
   "version": "3.8.10 (default, May 19 2021, 11:01:55) \n[Clang 10.0.0 ]"
  },
  "vscode": {
   "interpreter": {
    "hash": "06f0c45869341cb163dc0e20c71627e64903a42c384146393de476ad0a3bc8ec"
   }
  }
 },
 "nbformat": 4,
 "nbformat_minor": 5
}
