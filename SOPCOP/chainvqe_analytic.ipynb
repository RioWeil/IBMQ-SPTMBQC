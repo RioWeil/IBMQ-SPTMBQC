{
 "cells": [
  {
   "cell_type": "code",
   "execution_count": 1,
   "metadata": {},
   "outputs": [],
   "source": [
    "import numpy as np"
   ]
  },
  {
   "cell_type": "code",
   "execution_count": 2,
   "metadata": {},
   "outputs": [],
   "source": [
    "def E(x, alpha, N):\n",
    "    \"\"\"\n",
    "    Give the energy expectation as a function of x (variational parameter), alpha (intepolation parameter), N (length of chain)\n",
    "    \"\"\"\n",
    "    product = -np.sin(alpha)*(N - 2)\n",
    "    cluster = -np.cos(alpha)*(4*np.sqrt(1-x**2) + (N - 4)(1-x**2))\n",
    "    return product + cluster"
   ]
  },
  {
   "cell_type": "code",
   "execution_count": 3,
   "metadata": {},
   "outputs": [],
   "source": [
    "xar = np.linspace(0, 1, 1000) # x ranges from 0 to 1\n",
    "alpha = np.pi/5\n",
    "xmin = xar[np.argmin(E(xar, alpha))] # x that minimizes the energy\n",
    "thetamin = np.arcsin(xmin)/2  # inverting x = sin(2theta)"
   ]
  },
  {
   "cell_type": "code",
   "execution_count": 4,
   "metadata": {},
   "outputs": [
    {
     "name": "stdout",
     "output_type": "stream",
     "text": [
      "0.17737041693178668\n",
      "0.9843110638870385 0.1764418587228283 0.937736540980867\n"
     ]
    }
   ],
   "source": [
    "print(thetamin)\n",
    "a = np.cos(thetamin)\n",
    "b = np.sin(thetamin)  # Get parameters for circuit\n",
    "SOP = np.sqrt(1-xmin**2)  # SOP is just <ZXZ> on boundary, so sqrt(1-x^2)\n",
    "\n",
    "print(a, b, SOP)"
   ]
  },
  {
   "cell_type": "code",
   "execution_count": null,
   "metadata": {},
   "outputs": [],
   "source": []
  },
  {
   "cell_type": "code",
   "execution_count": null,
   "metadata": {},
   "outputs": [],
   "source": []
  }
 ],
 "metadata": {
  "kernelspec": {
   "display_name": "Python 3.8.10 ('Qiskit')",
   "language": "python",
   "name": "python3"
  },
  "language_info": {
   "codemirror_mode": {
    "name": "ipython",
    "version": 3
   },
   "file_extension": ".py",
   "mimetype": "text/x-python",
   "name": "python",
   "nbconvert_exporter": "python",
   "pygments_lexer": "ipython3",
   "version": "3.8.10"
  },
  "orig_nbformat": 4,
  "vscode": {
   "interpreter": {
    "hash": "06f0c45869341cb163dc0e20c71627e64903a42c384146393de476ad0a3bc8ec"
   }
  }
 },
 "nbformat": 4,
 "nbformat_minor": 2
}
